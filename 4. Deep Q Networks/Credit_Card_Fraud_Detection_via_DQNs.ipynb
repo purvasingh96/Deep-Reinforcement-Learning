{
  "nbformat": 4,
  "nbformat_minor": 0,
  "metadata": {
    "colab": {
      "name": "Credit_Card_Fraud_Detection_via_DQNs.ipynb",
      "provenance": [],
      "authorship_tag": "ABX9TyMAbA0xyyKyoAhJejuDQcmI",
      "include_colab_link": true
    },
    "kernelspec": {
      "name": "python3",
      "display_name": "Python 3"
    },
    "accelerator": "GPU"
  },
  "cells": [
    {
      "cell_type": "markdown",
      "metadata": {
        "id": "view-in-github",
        "colab_type": "text"
      },
      "source": [
        "<a href=\"https://colab.research.google.com/github/purvasingh96/Deep-Reinforcement-Learning/blob/master/4.%20Deep%20Q%20Networks/Credit_Card_Fraud_Detection_via_DQNs.ipynb\" target=\"_parent\"><img src=\"https://colab.research.google.com/assets/colab-badge.svg\" alt=\"Open In Colab\"/></a>"
      ]
    },
    {
      "cell_type": "markdown",
      "metadata": {
        "id": "yd3nIxkWx9re",
        "colab_type": "text"
      },
      "source": [
        "# Downloading data and Making *gym-fraud-detection* environment"
      ]
    },
    {
      "cell_type": "code",
      "metadata": {
        "id": "SEfJsOzcr5A1",
        "colab_type": "code",
        "colab": {}
      },
      "source": [
        "import shutil\n",
        "\n",
        "shutil.rmtree('/content/gym-fraud-detection')"
      ],
      "execution_count": 0,
      "outputs": []
    },
    {
      "cell_type": "code",
      "metadata": {
        "id": "aSP-HmORxLFf",
        "colab_type": "code",
        "outputId": "44a19d0c-eb26-4f50-ed68-edd32e9c3b50",
        "colab": {
          "base_uri": "https://localhost:8080/",
          "height": 50
        }
      },
      "source": [
        "!unzip dataset.zip"
      ],
      "execution_count": 137,
      "outputs": [
        {
          "output_type": "stream",
          "text": [
            "Archive:  dataset.zip\n",
            "replace dataset/creditcard.csv? [y]es, [n]o, [A]ll, [N]one, [r]ename: n\n"
          ],
          "name": "stdout"
        }
      ]
    },
    {
      "cell_type": "code",
      "metadata": {
        "id": "zJDVKS1Zx5Vu",
        "colab_type": "code",
        "outputId": "4a6fa94c-bd7a-49ae-9a5a-de0e36509152",
        "colab": {
          "base_uri": "https://localhost:8080/",
          "height": 33
        }
      },
      "source": [
        "import os\n",
        "print(os.getcwd())"
      ],
      "execution_count": 138,
      "outputs": [
        {
          "output_type": "stream",
          "text": [
            "/content\n"
          ],
          "name": "stdout"
        }
      ]
    },
    {
      "cell_type": "code",
      "metadata": {
        "id": "nbw-KPaCybIS",
        "colab_type": "code",
        "colab": {
          "base_uri": "https://localhost:8080/",
          "height": 1000
        },
        "outputId": "29c0bc6c-f143-404f-b8a9-0091ffb9f797"
      },
      "source": [
        "!unzip gym-fraud-detection.zip"
      ],
      "execution_count": 140,
      "outputs": [
        {
          "output_type": "stream",
          "text": [
            "Archive:  gym-fraud-detection.zip\n",
            "   creating: gym-fraud-detection/\n",
            "  inflating: gym-fraud-detection/setup.py  \n",
            "  inflating: gym-fraud-detection/README.md  \n",
            "   creating: gym-fraud-detection/gym_fraud_detection/\n",
            "  inflating: gym-fraud-detection/gym_fraud_detection/__init__.py  \n",
            "   creating: gym-fraud-detection/.idea/\n",
            "  inflating: gym-fraud-detection/.idea/workspace.xml  \n",
            "  inflating: gym-fraud-detection/.idea/vcs.xml  \n",
            "  inflating: gym-fraud-detection/.idea/gym-fraud-detection.iml  \n",
            "  inflating: gym-fraud-detection/.idea/modules.xml  \n",
            "  inflating: gym-fraud-detection/.idea/encodings.xml  \n",
            "  inflating: gym-fraud-detection/.idea/misc.xml  \n",
            "   creating: gym-fraud-detection/.git/\n",
            "  inflating: gym-fraud-detection/.git/index  \n",
            " extracting: gym-fraud-detection/.git/ORIG_HEAD  \n",
            "  inflating: gym-fraud-detection/.git/FETCH_HEAD  \n",
            " extracting: gym-fraud-detection/.git/COMMIT_EDITMSG  \n",
            " extracting: gym-fraud-detection/.git/HEAD  \n",
            "  inflating: gym-fraud-detection/.git/packed-refs  \n",
            "  inflating: gym-fraud-detection/.git/config  \n",
            "  inflating: gym-fraud-detection/.git/description  \n",
            "   creating: gym-fraud-detection/gym_fraud_detection/envs/\n",
            "  inflating: gym-fraud-detection/gym_fraud_detection/envs/__init__.py  \n",
            "  inflating: gym-fraud-detection/gym_fraud_detection/envs/fraud_detection_env.py  \n",
            "   creating: gym-fraud-detection/.git/logs/\n",
            "  inflating: gym-fraud-detection/.git/logs/HEAD  \n",
            "   creating: gym-fraud-detection/.git/objects/\n",
            "   creating: gym-fraud-detection/.git/info/\n",
            "  inflating: gym-fraud-detection/.git/info/exclude  \n",
            "   creating: gym-fraud-detection/.git/branches/\n",
            "   creating: gym-fraud-detection/.git/hooks/\n",
            "  inflating: gym-fraud-detection/.git/hooks/applypatch-msg.sample  \n",
            "  inflating: gym-fraud-detection/.git/hooks/pre-push.sample  \n",
            "  inflating: gym-fraud-detection/.git/hooks/pre-applypatch.sample  \n",
            "  inflating: gym-fraud-detection/.git/hooks/pre-commit.sample  \n",
            "  inflating: gym-fraud-detection/.git/hooks/prepare-commit-msg.sample  \n",
            "  inflating: gym-fraud-detection/.git/hooks/update.sample  \n",
            "  inflating: gym-fraud-detection/.git/hooks/post-update.sample  \n",
            "  inflating: gym-fraud-detection/.git/hooks/commit-msg.sample  \n",
            "  inflating: gym-fraud-detection/.git/hooks/pre-rebase.sample  \n",
            "   creating: gym-fraud-detection/.git/refs/\n",
            "   creating: gym-fraud-detection/.git/logs/refs/\n",
            "   creating: gym-fraud-detection/.git/objects/32/\n",
            " extracting: gym-fraud-detection/.git/objects/32/4c4ba385b7cc282d36e64d39ac505258f6e3f3  \n",
            "   creating: gym-fraud-detection/.git/objects/78/\n",
            " extracting: gym-fraud-detection/.git/objects/78/85619782426a7b326a97c83d890964c66c73bb  \n",
            "   creating: gym-fraud-detection/.git/objects/08/\n",
            " extracting: gym-fraud-detection/.git/objects/08/cf6089bd2a28bdcc2abac1f122a74589822719  \n",
            "   creating: gym-fraud-detection/.git/objects/07/\n",
            " extracting: gym-fraud-detection/.git/objects/07/4f816ac68d503058ff6b3597af2e9044c5fa7e  \n",
            " extracting: gym-fraud-detection/.git/objects/07/f6be5ca19da9b3947e0449896ba7903c5ea048  \n",
            "   creating: gym-fraud-detection/.git/objects/fc/\n",
            " extracting: gym-fraud-detection/.git/objects/fc/9e781039da8508b6f13b894d538ca9b9a1c6c8  \n",
            "   creating: gym-fraud-detection/.git/objects/eb/\n",
            " extracting: gym-fraud-detection/.git/objects/eb/91aa64e9d6ca3485acaa05ce92142e652bb308  \n",
            "   creating: gym-fraud-detection/.git/objects/f3/\n",
            " extracting: gym-fraud-detection/.git/objects/f3/245f0b8f42f0aba80fc0ba5eca15a3baf19a90  \n",
            "   creating: gym-fraud-detection/.git/objects/41/\n",
            " extracting: gym-fraud-detection/.git/objects/41/d3458a5854739ca176fb49d4f5dd88b6db9a80  \n",
            "   creating: gym-fraud-detection/.git/objects/16/\n",
            " extracting: gym-fraud-detection/.git/objects/16/38132f33ce2093940bcc49bda144057f126484  \n",
            "   creating: gym-fraud-detection/.git/objects/ef/\n",
            " extracting: gym-fraud-detection/.git/objects/ef/874fc31a69252120e4d876237956456bdb7bd4  \n",
            "   creating: gym-fraud-detection/.git/objects/57/\n",
            " extracting: gym-fraud-detection/.git/objects/57/1d4f955df1c5f2866d5b1c2e57defa3e3a9cd6  \n",
            "   creating: gym-fraud-detection/.git/objects/29/\n",
            " extracting: gym-fraud-detection/.git/objects/29/7fffa2396b3db6ac41fd129f5a7d2ea0b58da0  \n",
            "   creating: gym-fraud-detection/.git/objects/58/\n",
            " extracting: gym-fraud-detection/.git/objects/58/2013069d105641a1b4420a358c0fb5a26f5f8d  \n",
            "   creating: gym-fraud-detection/.git/objects/ca/\n",
            " extracting: gym-fraud-detection/.git/objects/ca/29118949266f78335170d12f62bc604a7c209a  \n",
            "   creating: gym-fraud-detection/.git/objects/8d/\n",
            " extracting: gym-fraud-detection/.git/objects/8d/3ebec36c5ccafa5edae61fd82250de16e0b364  \n",
            "   creating: gym-fraud-detection/.git/objects/09/\n",
            " extracting: gym-fraud-detection/.git/objects/09/ca86caa7dc28877843fecea57e2eec9ffaabf9  \n",
            "   creating: gym-fraud-detection/.git/objects/79/\n",
            " extracting: gym-fraud-detection/.git/objects/79/9da6a34ae67f61f45ac2f570bd7efa6b1d9d7a  \n",
            "   creating: gym-fraud-detection/.git/objects/f6/\n",
            " extracting: gym-fraud-detection/.git/objects/f6/d0d9960a2ea2e0173a10193a47254649da5da0  \n",
            "   creating: gym-fraud-detection/.git/objects/7f/\n",
            " extracting: gym-fraud-detection/.git/objects/7f/ef9edc6cbedd3e126c8e14789fca5b8342fdb6  \n",
            "   creating: gym-fraud-detection/.git/objects/10/\n",
            " extracting: gym-fraud-detection/.git/objects/10/673a85733ae662e2d15675e1c8868d10ba3339  \n",
            "   creating: gym-fraud-detection/.git/objects/64/\n",
            " extracting: gym-fraud-detection/.git/objects/64/8872169adeb60600106fd5471ce2ad97abe5a1  \n",
            "   creating: gym-fraud-detection/.git/objects/a2/\n",
            " extracting: gym-fraud-detection/.git/objects/a2/d7823c583d2b39c423153d933a24b5ad8953f0  \n",
            "   creating: gym-fraud-detection/.git/objects/b5/\n",
            " extracting: gym-fraud-detection/.git/objects/b5/40e79c7af20c5bbf0e4f5d925e313b4dbf1c7a  \n",
            "   creating: gym-fraud-detection/.git/objects/b8/\n",
            " extracting: gym-fraud-detection/.git/objects/b8/2dc7b54504e0467bccc5b103cf655f47e9a5e3  \n",
            "   creating: gym-fraud-detection/.git/objects/3d/\n",
            " extracting: gym-fraud-detection/.git/objects/3d/88519c43e666b55879997a017a7c3bd5a8fd14  \n",
            "   creating: gym-fraud-detection/.git/objects/88/\n",
            " extracting: gym-fraud-detection/.git/objects/88/02f8f83e9fa47e7eebdb98abc8ca6ae62433df  \n",
            "   creating: gym-fraud-detection/.git/objects/80/\n",
            " extracting: gym-fraud-detection/.git/objects/80/9b951a829300318f8a28f96c9b9c1060cb69f5  \n",
            "   creating: gym-fraud-detection/.git/objects/f1/\n",
            " extracting: gym-fraud-detection/.git/objects/f1/d5fd6850511f9ac6c6e33bbda28730d7ffee88  \n",
            " extracting: gym-fraud-detection/.git/objects/f1/d668439da4348216f4114dfacabfab6c69607b  \n",
            "   creating: gym-fraud-detection/.git/objects/28/\n",
            " extracting: gym-fraud-detection/.git/objects/28/c41eec66e23aeb46a3d2148a61cf7ff73aff7c  \n",
            "   creating: gym-fraud-detection/.git/objects/e6/\n",
            " extracting: gym-fraud-detection/.git/objects/e6/9de29bb2d1d6434b8b29ae775ad8c2e48c5391  \n",
            "   creating: gym-fraud-detection/.git/objects/94/\n",
            " extracting: gym-fraud-detection/.git/objects/94/2737a0fd356bb3585794c8a9fbe2f9aceec1f4  \n",
            " extracting: gym-fraud-detection/.git/objects/94/a25f7f4cb416c083d265558da75d457237d671  \n",
            "   creating: gym-fraud-detection/.git/objects/ea/\n",
            " extracting: gym-fraud-detection/.git/objects/ea/0f4b993d850a959169ada12626e4277ac38e2b  \n",
            "   creating: gym-fraud-detection/.git/objects/25/\n",
            " extracting: gym-fraud-detection/.git/objects/25/7e24b080ac31ddcf1dc4b97dd9529a42d83274  \n",
            "   creating: gym-fraud-detection/.git/objects/84/\n",
            " extracting: gym-fraud-detection/.git/objects/84/423929b1578716a5d107e2ec1b37b137c266f2  \n",
            "   creating: gym-fraud-detection/.git/objects/info/\n",
            "   creating: gym-fraud-detection/.git/objects/pack/\n",
            "   creating: gym-fraud-detection/.git/refs/remotes/\n",
            "   creating: gym-fraud-detection/.git/refs/tags/\n",
            "   creating: gym-fraud-detection/.git/refs/heads/\n",
            " extracting: gym-fraud-detection/.git/refs/heads/master  \n",
            "   creating: gym-fraud-detection/.git/logs/refs/heads/\n",
            "  inflating: gym-fraud-detection/.git/logs/refs/heads/master  \n",
            "   creating: gym-fraud-detection/.git/logs/refs/remotes/\n",
            "   creating: gym-fraud-detection/.git/refs/remotes/origin/\n",
            " extracting: gym-fraud-detection/.git/refs/remotes/origin/master  \n",
            " extracting: gym-fraud-detection/.git/refs/remotes/origin/HEAD  \n",
            "   creating: gym-fraud-detection/.git/logs/refs/remotes/origin/\n",
            "  inflating: gym-fraud-detection/.git/logs/refs/remotes/origin/master  \n",
            "  inflating: gym-fraud-detection/.git/logs/refs/remotes/origin/HEAD  \n"
          ],
          "name": "stdout"
        }
      ]
    },
    {
      "cell_type": "code",
      "metadata": {
        "id": "etBbJvzDyfUg",
        "colab_type": "code",
        "colab": {}
      },
      "source": [
        "import os\n",
        "os.chdir('gym-fraud-detection')"
      ],
      "execution_count": 0,
      "outputs": []
    },
    {
      "cell_type": "code",
      "metadata": {
        "id": "ki_yImcr00iq",
        "colab_type": "code",
        "colab": {
          "base_uri": "https://localhost:8080/",
          "height": 212
        },
        "outputId": "fd72a43a-7c77-4b8a-ab9c-63925c7875e7"
      },
      "source": [
        "pip install -e ."
      ],
      "execution_count": 142,
      "outputs": [
        {
          "output_type": "stream",
          "text": [
            "Obtaining file:///content/gym-fraud-detection\n",
            "Requirement already satisfied: gym in /usr/local/lib/python3.6/dist-packages (from gym-fraud-detection==0.0.1) (0.17.2)\n",
            "Requirement already satisfied: scipy in /usr/local/lib/python3.6/dist-packages (from gym->gym-fraud-detection==0.0.1) (1.4.1)\n",
            "Requirement already satisfied: pyglet<=1.5.0,>=1.4.0 in /usr/local/lib/python3.6/dist-packages (from gym->gym-fraud-detection==0.0.1) (1.5.0)\n",
            "Requirement already satisfied: cloudpickle<1.4.0,>=1.2.0 in /usr/local/lib/python3.6/dist-packages (from gym->gym-fraud-detection==0.0.1) (1.3.0)\n",
            "Requirement already satisfied: numpy>=1.10.4 in /usr/local/lib/python3.6/dist-packages (from gym->gym-fraud-detection==0.0.1) (1.18.5)\n",
            "Requirement already satisfied: future in /usr/local/lib/python3.6/dist-packages (from pyglet<=1.5.0,>=1.4.0->gym->gym-fraud-detection==0.0.1) (0.16.0)\n",
            "Installing collected packages: gym-fraud-detection\n",
            "  Found existing installation: gym-fraud-detection 0.0.1\n",
            "    Can't uninstall 'gym-fraud-detection'. No files were found to uninstall.\n",
            "  Running setup.py develop for gym-fraud-detection\n",
            "Successfully installed gym-fraud-detection\n"
          ],
          "name": "stdout"
        }
      ]
    },
    {
      "cell_type": "code",
      "metadata": {
        "id": "TZn7ZY3S09w4",
        "colab_type": "code",
        "colab": {}
      },
      "source": [
        "import gym\n",
        "import gym_fraud_detection"
      ],
      "execution_count": 0,
      "outputs": []
    },
    {
      "cell_type": "code",
      "metadata": {
        "id": "vGDw0SDL65J7",
        "colab_type": "code",
        "colab": {}
      },
      "source": [
        "os.chdir('/content')\n",
        "env = gym.make('gym-fraud-detection-v0')"
      ],
      "execution_count": 0,
      "outputs": []
    },
    {
      "cell_type": "code",
      "metadata": {
        "id": "u0oVq2LW7Abr",
        "colab_type": "code",
        "outputId": "47b4a167-1e6e-41ac-c4a3-ead3301c7a7d",
        "colab": {
          "base_uri": "https://localhost:8080/",
          "height": 50
        }
      },
      "source": [
        "print(env.action_space)\n",
        "print(env.observation_space)"
      ],
      "execution_count": 145,
      "outputs": [
        {
          "output_type": "stream",
          "text": [
            "Discrete(2)\n",
            "Discrete(284807)\n"
          ],
          "name": "stdout"
        }
      ]
    },
    {
      "cell_type": "markdown",
      "metadata": {
        "id": "yyliTenYyJFn",
        "colab_type": "text"
      },
      "source": [
        "# Download proper libraries"
      ]
    },
    {
      "cell_type": "code",
      "metadata": {
        "id": "npIKlpFYx7aH",
        "colab_type": "code",
        "colab": {}
      },
      "source": [
        "import math\n",
        "import random\n",
        "import numpy as np\n",
        "import matplotlib\n",
        "import matplotlib.pyplot as plt\n",
        "from collections import namedtuple\n",
        "from itertools import count\n",
        "from PIL import Image\n",
        "\n",
        "import torch\n",
        "import torch.nn as nn\n",
        "import torch.optim as optim\n",
        "import torch.nn.functional as F\n",
        "import torchvision.transforms as T\n"
      ],
      "execution_count": 0,
      "outputs": []
    },
    {
      "cell_type": "code",
      "metadata": {
        "id": "dxvMcLNyyazd",
        "colab_type": "code",
        "colab": {}
      },
      "source": [
        "# if gpu is to be used\n",
        "device = torch.device(\"cuda\" if torch.cuda.is_available() else \"cpu\")"
      ],
      "execution_count": 0,
      "outputs": []
    },
    {
      "cell_type": "markdown",
      "metadata": {
        "id": "_M2zDvSnzrhP",
        "colab_type": "text"
      },
      "source": [
        "# Exploring the custom gym environment"
      ]
    },
    {
      "cell_type": "code",
      "metadata": {
        "id": "9lBO9cfLyeGI",
        "colab_type": "code",
        "outputId": "7fe89f86-2399-4354-d82d-5cd3aa41c643",
        "colab": {
          "base_uri": "https://localhost:8080/",
          "height": 33
        }
      },
      "source": [
        "print(env.action_space.n)"
      ],
      "execution_count": 148,
      "outputs": [
        {
          "output_type": "stream",
          "text": [
            "2\n"
          ],
          "name": "stdout"
        }
      ]
    },
    {
      "cell_type": "code",
      "metadata": {
        "id": "tkFHCcn2zwsi",
        "colab_type": "code",
        "colab": {}
      },
      "source": [
        "actions = []\n",
        "rewards = []\n",
        "count = 5\n",
        "\n",
        "while True:\n",
        "  action = env.action_space.sample()\n",
        "  reward = env.step(action, 64)\n",
        "  actions.append(action)\n",
        "  rewards.append(reward)\n",
        "  count -= 1\n",
        "  if count==0:\n",
        "    break\n"
      ],
      "execution_count": 0,
      "outputs": []
    },
    {
      "cell_type": "code",
      "metadata": {
        "id": "LSpdBwmD0MXf",
        "colab_type": "code",
        "outputId": "1365167c-3e25-480f-c5d7-b8ba65276f49",
        "colab": {
          "base_uri": "https://localhost:8080/",
          "height": 180
        }
      },
      "source": [
        "for i in range(5):\n",
        "  print(\"action : \", actions[i], \"labelled data : \", env.label_for(i))\n",
        "  print(\"reward : \", rewards[i])"
      ],
      "execution_count": 152,
      "outputs": [
        {
          "output_type": "stream",
          "text": [
            "action :  1 labelled data :  0.0\n",
            "reward :  ([], [], [], [])\n",
            "action :  1 labelled data :  0.0\n",
            "reward :  ([], [], [], [])\n",
            "action :  1 labelled data :  0.0\n",
            "reward :  ([], [], [], [])\n",
            "action :  0 labelled data :  0.0\n",
            "reward :  ([], [], [], [])\n",
            "action :  0 labelled data :  0.0\n",
            "reward :  ([], [], [], [])\n"
          ],
          "name": "stdout"
        }
      ]
    },
    {
      "cell_type": "markdown",
      "metadata": {
        "id": "fXOAmP2t4PAk",
        "colab_type": "text"
      },
      "source": [
        "# Exploring data and creating pytorch model\n",
        "\n",
        "link : https://www.kaggle.com/dakshmiglani/pytorch-credit-card-fraud-prediction-99-8"
      ]
    },
    {
      "cell_type": "code",
      "metadata": {
        "id": "V6iifaPH0O3C",
        "colab_type": "code",
        "colab": {}
      },
      "source": [
        "import torch, torch.nn as nn, torch.nn.functional as F\n",
        "from torch.autograd import Variable\n",
        "import pandas as pd\n",
        "from sklearn.preprocessing import StandardScaler\n",
        "from sklearn.model_selection import train_test_split\n",
        "import torch.utils.data as data_utils"
      ],
      "execution_count": 0,
      "outputs": []
    },
    {
      "cell_type": "code",
      "metadata": {
        "id": "08OKe2xb4pRl",
        "colab_type": "code",
        "outputId": "6e902321-aa84-4472-cdf4-96491991bd69",
        "colab": {
          "base_uri": "https://localhost:8080/",
          "height": 96
        }
      },
      "source": [
        "df = pd.read_csv('./dataset/creditcard.csv')\n",
        "df.head(1) # give us a sneek preview of the dataset xD"
      ],
      "execution_count": 0,
      "outputs": [
        {
          "output_type": "execute_result",
          "data": {
            "text/html": [
              "<div>\n",
              "<style scoped>\n",
              "    .dataframe tbody tr th:only-of-type {\n",
              "        vertical-align: middle;\n",
              "    }\n",
              "\n",
              "    .dataframe tbody tr th {\n",
              "        vertical-align: top;\n",
              "    }\n",
              "\n",
              "    .dataframe thead th {\n",
              "        text-align: right;\n",
              "    }\n",
              "</style>\n",
              "<table border=\"1\" class=\"dataframe\">\n",
              "  <thead>\n",
              "    <tr style=\"text-align: right;\">\n",
              "      <th></th>\n",
              "      <th>Time</th>\n",
              "      <th>V1</th>\n",
              "      <th>V2</th>\n",
              "      <th>V3</th>\n",
              "      <th>V4</th>\n",
              "      <th>V5</th>\n",
              "      <th>V6</th>\n",
              "      <th>V7</th>\n",
              "      <th>V8</th>\n",
              "      <th>V9</th>\n",
              "      <th>V10</th>\n",
              "      <th>V11</th>\n",
              "      <th>V12</th>\n",
              "      <th>V13</th>\n",
              "      <th>V14</th>\n",
              "      <th>V15</th>\n",
              "      <th>V16</th>\n",
              "      <th>V17</th>\n",
              "      <th>V18</th>\n",
              "      <th>V19</th>\n",
              "      <th>V20</th>\n",
              "      <th>V21</th>\n",
              "      <th>V22</th>\n",
              "      <th>V23</th>\n",
              "      <th>V24</th>\n",
              "      <th>V25</th>\n",
              "      <th>V26</th>\n",
              "      <th>V27</th>\n",
              "      <th>V28</th>\n",
              "      <th>Amount</th>\n",
              "      <th>Class</th>\n",
              "    </tr>\n",
              "  </thead>\n",
              "  <tbody>\n",
              "    <tr>\n",
              "      <th>0</th>\n",
              "      <td>0.0</td>\n",
              "      <td>-1.359807</td>\n",
              "      <td>-0.072781</td>\n",
              "      <td>2.536347</td>\n",
              "      <td>1.378155</td>\n",
              "      <td>-0.338321</td>\n",
              "      <td>0.462388</td>\n",
              "      <td>0.239599</td>\n",
              "      <td>0.098698</td>\n",
              "      <td>0.363787</td>\n",
              "      <td>0.090794</td>\n",
              "      <td>-0.5516</td>\n",
              "      <td>-0.617801</td>\n",
              "      <td>-0.99139</td>\n",
              "      <td>-0.311169</td>\n",
              "      <td>1.468177</td>\n",
              "      <td>-0.470401</td>\n",
              "      <td>0.207971</td>\n",
              "      <td>0.025791</td>\n",
              "      <td>0.403993</td>\n",
              "      <td>0.251412</td>\n",
              "      <td>-0.018307</td>\n",
              "      <td>0.277838</td>\n",
              "      <td>-0.110474</td>\n",
              "      <td>0.066928</td>\n",
              "      <td>0.128539</td>\n",
              "      <td>-0.189115</td>\n",
              "      <td>0.133558</td>\n",
              "      <td>-0.021053</td>\n",
              "      <td>149.62</td>\n",
              "      <td>0</td>\n",
              "    </tr>\n",
              "  </tbody>\n",
              "</table>\n",
              "</div>"
            ],
            "text/plain": [
              "   Time        V1        V2        V3  ...       V27       V28  Amount  Class\n",
              "0   0.0 -1.359807 -0.072781  2.536347  ...  0.133558 -0.021053  149.62      0\n",
              "\n",
              "[1 rows x 31 columns]"
            ]
          },
          "metadata": {
            "tags": []
          },
          "execution_count": 17
        }
      ]
    },
    {
      "cell_type": "code",
      "metadata": {
        "id": "0Dn7LVNZ4wLl",
        "colab_type": "code",
        "colab": {}
      },
      "source": [
        "X = df.iloc[:, :-1].values \n",
        "y = df.iloc[:, -1].values\n",
        "\n",
        "\n",
        "\n",
        "\n",
        "sc = StandardScaler()\n",
        "X = sc.fit_transform(X)"
      ],
      "execution_count": 0,
      "outputs": []
    },
    {
      "cell_type": "code",
      "metadata": {
        "id": "_JrGWieB5bzu",
        "colab_type": "code",
        "outputId": "77409934-c443-40ef-f6ef-b6c7fa9f0c34",
        "colab": {
          "base_uri": "https://localhost:8080/",
          "height": 537
        }
      },
      "source": [
        "print(df.loc[1])"
      ],
      "execution_count": 183,
      "outputs": [
        {
          "output_type": "stream",
          "text": [
            "Time      0.000000\n",
            "V1        1.191857\n",
            "V2        0.266151\n",
            "V3        0.166480\n",
            "V4        0.448154\n",
            "V5        0.060018\n",
            "V6       -0.082361\n",
            "V7       -0.078803\n",
            "V8        0.085102\n",
            "V9       -0.255425\n",
            "V10      -0.166974\n",
            "V11       1.612727\n",
            "V12       1.065235\n",
            "V13       0.489095\n",
            "V14      -0.143772\n",
            "V15       0.635558\n",
            "V16       0.463917\n",
            "V17      -0.114805\n",
            "V18      -0.183361\n",
            "V19      -0.145783\n",
            "V20      -0.069083\n",
            "V21      -0.225775\n",
            "V22      -0.638672\n",
            "V23       0.101288\n",
            "V24      -0.339846\n",
            "V25       0.167170\n",
            "V26       0.125895\n",
            "V27      -0.008983\n",
            "V28       0.014724\n",
            "Amount    2.690000\n",
            "Class     0.000000\n",
            "Name: 1, dtype: float64\n"
          ],
          "name": "stdout"
        }
      ]
    },
    {
      "cell_type": "markdown",
      "metadata": {
        "id": "jtT8nKAr7xew",
        "colab_type": "text"
      },
      "source": [
        "## 2. Defining the Q-Network"
      ]
    },
    {
      "cell_type": "code",
      "metadata": {
        "id": "WrYaaTPH7tpF",
        "colab_type": "code",
        "colab": {}
      },
      "source": [
        "class DQN(nn.Module):\n",
        "    def __init__(self):\n",
        "        super().__init__()\n",
        "        self.fc1 = nn.Linear(30, 16)\n",
        "        self.fc2 = nn.Linear(16, 18)\n",
        "        self.fc3 = nn.Linear(18, 20)\n",
        "        self.fc4 = nn.Linear(20, 24)\n",
        "        self.fc5 = nn.Linear(24, 2)\n",
        "    def forward(self, x):\n",
        "        x = F.relu(self.fc1(x))\n",
        "        x = F.relu(self.fc2(x))\n",
        "        x = F.dropout(x, p=0.25)\n",
        "        x = F.relu(self.fc3(x))\n",
        "        x = F.relu(self.fc4(x))\n",
        "        x = torch.sigmoid(self.fc5(x))\n",
        "        return x"
      ],
      "execution_count": 0,
      "outputs": []
    },
    {
      "cell_type": "markdown",
      "metadata": {
        "id": "IEIjnFYWuHVH",
        "colab_type": "text"
      },
      "source": [
        "# Define DQN Agent"
      ]
    },
    {
      "cell_type": "code",
      "metadata": {
        "id": "lRKfj_w9jI0R",
        "colab_type": "code",
        "colab": {}
      },
      "source": [
        "import numpy as np\n",
        "import random \n",
        "from collections import namedtuple, deque \n",
        "\n",
        "import torch\n",
        "import torch.nn.functional as F\n",
        "import torch.optim as optim\n",
        "\n",
        "BUFFER_SIZE = int(1e5)  #replay buffer size\n",
        "BATCH_SIZE = 1         # minibatch size\n",
        "GAMMA = 0.99            # discount factor\n",
        "TAU = 1e-3              # for soft update of target parameters\n",
        "LR = 5e-4               # learning rate\n",
        "UPDATE_EVERY = 4        # how often to update the network\n",
        "EPSILON = 0.8           # probability of chosing on-policy action\n",
        "\n",
        "device = torch.device(\"cuda:0\" if torch.cuda.is_available() else \"cpu\")\n"
      ],
      "execution_count": 0,
      "outputs": []
    },
    {
      "cell_type": "code",
      "metadata": {
        "id": "_wtw7yjqujcU",
        "colab_type": "code",
        "colab": {}
      },
      "source": [
        "class Agent():\n",
        "  def __init__(self, action_size, seed):\n",
        "    self.action_size = action_size\n",
        "    self.seed = random.seed(seed)\n",
        "\n",
        "\n",
        "    # Q - Network\n",
        "    self.qnet_local = DQN().double().to(device)\n",
        "    self.qnet_target = DQN().double().to(device)\n",
        "\n",
        "    self.optimizer = optim.Adam(self.qnet_local.parameters(), lr=0.001)\n",
        "\n",
        "    self.memory = ReplayBuffer(action_size, BUFFER_SIZE, BATCH_SIZE, seed)\n",
        "\n",
        "    self.t_step = 0\n",
        "\n",
        "  def step(self, state, action, reward, next_state, done):\n",
        "    self.memory.add(state, action, reward, next_state, done)\n",
        "\n",
        "\n",
        "    # learn every 4 timesteps\n",
        "    self.t_step = (self.t_step+1)%64\n",
        "    if self.t_step == 0:\n",
        "      experience = self.memory.sample()\n",
        "      print('Experience sampled from memory : ', experience)\n",
        "      self.learn(experience, GAMMA)\n",
        "\n",
        "\n",
        "  def epsilon_greedy_action(self, state):\n",
        "    state = state.to(device)\n",
        "    self.qnet_local.eval()\n",
        "    with torch.no_grad():\n",
        "      action_values = self.qnet_local(state).max(1)[1]#.view(1, 1)\n",
        "    self.qnet_local.train()\n",
        "\n",
        "    if random.random() < 0.8:\n",
        "      #print('Predicting action based on QNetwork')\n",
        "      return action_values\n",
        "    else:\n",
        "      #print('Chosing  random actions for the batch')\n",
        "      random_action = random.choices(np.arange(self.action_size), k=BATCH_SIZE)\n",
        "      return random_action\n",
        "  \n",
        "  def learn(self, experiences, gamma):\n",
        "    print('Started learning')\n",
        "    states, actions, rewards, next_states, done = experiences\n",
        "    criterion = torch.nn.BCELoss()\n",
        "    self.qnet_local.train()\n",
        "    self.qnet_target.eval()\n",
        "\n",
        "    print('before predicting targets')\n",
        "\n",
        "    #predicted_targets = self.qnet_local(states)#.gather(1, actions)\n",
        "\n",
        "    #print('Predicted targets : {}'.format(predicted_targets))\n",
        "    #print(next_states.view(1, 1))\n",
        "    with torch.no_grad():\n",
        "      labels_next = self.qnet_target(next_states).detach().max(1)[0].unsqueeze(1)\n",
        "    \n",
        "    print('Rewards : ', rewards)\n",
        "    labels = 1 + (gamma * labels_next)\n",
        "    predicted_targets = self.qnet_local(states).gather(1, actions.long())\n",
        "\n",
        "    print('Predicted targets : ', predicted_targets.gather(1, actions.long()))\n",
        "    print('Labels : ', labels)\n",
        "\n",
        "    loss = criterion(predicted_targets, labels).to(device)\n",
        "    print(\"Training loss :: {}\".format(loss))\n",
        "    self.optimizer.zero_grad()\n",
        "    loss.backward()\n",
        "    self.optimizer.step()\n",
        "\n",
        "    # perform soft update\n",
        "    self.soft_update(self, self.qnet_local, self.qnet_target, TAU)\n",
        "  \n",
        "  def soft_update(self, local_model, target_model, tau):\n",
        "    for target_param, local_param in zip(target_model.parameters(), local_model.parameters()):\n",
        "      target_param.data.copy_(tau*local_param.data + (1-tau)*target_param.data)\n",
        "\n",
        "\n"
      ],
      "execution_count": 0,
      "outputs": []
    },
    {
      "cell_type": "code",
      "metadata": {
        "id": "SmJtKxIW2ekm",
        "colab_type": "code",
        "colab": {}
      },
      "source": [
        "class ReplayBuffer():\n",
        "  def __init__(self, action_size, buffer_size, batch_size, seed):\n",
        "    self.action_size = action_size\n",
        "    self.memory = deque(maxlen=buffer_size)\n",
        "    self.batch_size = batch_size\n",
        "    self.experiences = namedtuple(\"Experience\", field_names=[\"state\", \"action\", \"reward\", \"next_state\", \"done\"])\n",
        "    self.seed = random.seed(seed)\n",
        "  \n",
        "  def add(self, state, action, reward, next_state, done):\n",
        "    experience = self.experiences(state, action, reward, next_state, done)\n",
        "    self.memory.append(experience)\n",
        "\n",
        "  def sample(self):\n",
        "    experiences = random.sample(self.memory, k=self.batch_size)\n",
        "    states = torch.from_numpy(np.vstack([e.state for e in experiences if e is not None])).double().to(device)\n",
        "    actions = torch.from_numpy(np.vstack([e.action.cpu() for e in experiences if e is not None])).double().to(device)\n",
        "    rewards = torch.from_numpy(np.vstack([e.reward for e in experiences if e is not None])).double().to(device)\n",
        "    next_states = torch.from_numpy(np.vstack([e.next_state for e in experiences if e is not None])).double().to(device)\n",
        "    dones = torch.from_numpy(np.vstack([e.done for e in experiences if e is not None])).double().to(device)\n",
        "\n",
        "    # experiences = random.sample(self.memory, k=BATCH_SIZE)\n",
        "\n",
        "    # batch = self.experiences(*zip(experiences))\n",
        "\n",
        "    # states = torch.cat(batch.state)\n",
        "    # actions = torch.cat(batch.actions)\n",
        "    # rewards = torch.cat(batch.reward)\n",
        "    # next_states = torch.cat(batch.next_state)\n",
        "    # dones = torch.cat(batch.done)\n",
        "\n",
        "    return (states, actions, rewards, next_states, dones)\n",
        "  \n",
        "  def __len__(self):\n",
        "      return len(self.memory)\n"
      ],
      "execution_count": 0,
      "outputs": []
    },
    {
      "cell_type": "markdown",
      "metadata": {
        "id": "7zAspyGi7QgB",
        "colab_type": "text"
      },
      "source": [
        "# Training the agent"
      ]
    },
    {
      "cell_type": "code",
      "metadata": {
        "id": "VxKMYE789WrB",
        "colab_type": "code",
        "colab": {}
      },
      "source": [
        "X_train, X_test, Y_train, Y_test = train_test_split(X, y, test_size=0.1, random_state=1)\n",
        "\n",
        "X_train = torch.from_numpy(X_train)\n",
        "Y_train = torch.from_numpy(Y_train).double()\n",
        "\n",
        "train = data_utils.TensorDataset(X_train, Y_train)\n",
        "train_loader = data_utils.DataLoader(train, batch_size=BATCH_SIZE, shuffle=True)"
      ],
      "execution_count": 0,
      "outputs": []
    },
    {
      "cell_type": "code",
      "metadata": {
        "id": "FbSPieKvtLBX",
        "colab_type": "code",
        "colab": {}
      },
      "source": [
        "#df = pd.read_csv('./dataset/creditcard.csv')"
      ],
      "execution_count": 0,
      "outputs": []
    },
    {
      "cell_type": "code",
      "metadata": {
        "id": "5xOHIUkg481e",
        "colab_type": "code",
        "outputId": "18d0e374-eb98-480e-92c7-e05c3e2c6db2",
        "colab": {
          "base_uri": "https://localhost:8080/",
          "height": 722
        }
      },
      "source": [
        "# check reward strategy once\n",
        "# add probability to epsilon_greedy\n",
        "deep_agent = Agent(action_size=2, seed=0)\n",
        "num_episodes = 200\n",
        "max_t = 1000\n",
        "state = 0\n",
        "\n",
        "for i in range(num_episodes):  \n",
        "  env.state_index = 0\n",
        "  current_state = df.loc[0]\n",
        "  next_state = df.iloc[1, :-1].values\n",
        "  print(next_state)\n",
        "  #print('Current state : ', current_state)\n",
        "  score = 0\n",
        "  for state_idx, data in enumerate(train_loader, 0):\n",
        "    inputs, labels = data    \n",
        "    action = deep_agent.epsilon_greedy_action(inputs)\n",
        "    #print('action taken : ', action)\n",
        "    next_stated, reward, done, _ = env.step(action, BATCH_SIZE)\n",
        "    #print('Next_state : ', next_state)\n",
        "    #print('Next state dtype ; ', next_state.dtype)\n",
        "    #print(next_state)\n",
        "    deep_agent.step(current_state, action, reward, next_state, done)\n",
        "    current_state = next_state\n",
        "    #state = next_state\n",
        "    #score += reward      "
      ],
      "execution_count": 230,
      "outputs": [
        {
          "output_type": "stream",
          "text": [
            "[ 0.          1.19185711  0.26615071  0.16648011  0.44815408  0.06001765\n",
            " -0.08236081 -0.07880298  0.08510165 -0.25542513 -0.16697441  1.61272666\n",
            "  1.06523531  0.48909502 -0.1437723   0.63555809  0.46391704 -0.11480466\n",
            " -0.18336127 -0.14578304 -0.06908314 -0.22577525 -0.63867195  0.10128802\n",
            " -0.33984648  0.1671704   0.12589453 -0.0089831   0.01472417  2.69      ]\n",
            "Experience sampled from memory :  (tensor([[ 0.0000,  1.1919,  0.2662,  0.1665,  0.4482,  0.0600, -0.0824, -0.0788,\n",
            "          0.0851, -0.2554, -0.1670,  1.6127,  1.0652,  0.4891, -0.1438,  0.6356,\n",
            "          0.4639, -0.1148, -0.1834, -0.1458, -0.0691, -0.2258, -0.6387,  0.1013,\n",
            "         -0.3398,  0.1672,  0.1259, -0.0090,  0.0147,  2.6900]],\n",
            "       device='cuda:0', dtype=torch.float64), tensor([[1.]], device='cuda:0', dtype=torch.float64), tensor([], device='cuda:0', size=(1, 0), dtype=torch.float64), tensor([[ 0.0000,  1.1919,  0.2662,  0.1665,  0.4482,  0.0600, -0.0824, -0.0788,\n",
            "          0.0851, -0.2554, -0.1670,  1.6127,  1.0652,  0.4891, -0.1438,  0.6356,\n",
            "          0.4639, -0.1148, -0.1834, -0.1458, -0.0691, -0.2258, -0.6387,  0.1013,\n",
            "         -0.3398,  0.1672,  0.1259, -0.0090,  0.0147,  2.6900]],\n",
            "       device='cuda:0', dtype=torch.float64), tensor([], device='cuda:0', size=(1, 0), dtype=torch.float64))\n",
            "Started learning\n",
            "before predicting targets\n",
            "Rewards :  tensor([], device='cuda:0', size=(1, 0), dtype=torch.float64)\n",
            "Predicted targets :  tensor([[0.0004]], device='cuda:0', dtype=torch.float64,\n",
            "       grad_fn=<GatherBackward>)\n",
            "Labels :  tensor([[1.5171]], device='cuda:0', dtype=torch.float64)\n",
            "Training loss :: 0.5752337211965001\n"
          ],
          "name": "stdout"
        },
        {
          "output_type": "error",
          "ename": "TypeError",
          "evalue": "ignored",
          "traceback": [
            "\u001b[0;31m---------------------------------------------------------------------------\u001b[0m",
            "\u001b[0;31mTypeError\u001b[0m                                 Traceback (most recent call last)",
            "\u001b[0;32m<ipython-input-230-604cb5746ee8>\u001b[0m in \u001b[0;36m<module>\u001b[0;34m()\u001b[0m\n\u001b[1;32m     21\u001b[0m     \u001b[0;31m#print('Next state dtype ; ', next_state.dtype)\u001b[0m\u001b[0;34m\u001b[0m\u001b[0;34m\u001b[0m\u001b[0;34m\u001b[0m\u001b[0m\n\u001b[1;32m     22\u001b[0m     \u001b[0;31m#print(next_state)\u001b[0m\u001b[0;34m\u001b[0m\u001b[0;34m\u001b[0m\u001b[0;34m\u001b[0m\u001b[0m\n\u001b[0;32m---> 23\u001b[0;31m     \u001b[0mdeep_agent\u001b[0m\u001b[0;34m.\u001b[0m\u001b[0mstep\u001b[0m\u001b[0;34m(\u001b[0m\u001b[0mcurrent_state\u001b[0m\u001b[0;34m,\u001b[0m \u001b[0maction\u001b[0m\u001b[0;34m,\u001b[0m \u001b[0mreward\u001b[0m\u001b[0;34m,\u001b[0m \u001b[0mnext_state\u001b[0m\u001b[0;34m,\u001b[0m \u001b[0mdone\u001b[0m\u001b[0;34m)\u001b[0m\u001b[0;34m\u001b[0m\u001b[0;34m\u001b[0m\u001b[0m\n\u001b[0m\u001b[1;32m     24\u001b[0m     \u001b[0mcurrent_state\u001b[0m \u001b[0;34m=\u001b[0m \u001b[0mnext_state\u001b[0m\u001b[0;34m\u001b[0m\u001b[0;34m\u001b[0m\u001b[0m\n\u001b[1;32m     25\u001b[0m     \u001b[0;31m#state = next_state\u001b[0m\u001b[0;34m\u001b[0m\u001b[0;34m\u001b[0m\u001b[0;34m\u001b[0m\u001b[0m\n",
            "\u001b[0;32m<ipython-input-226-42107b3b48a1>\u001b[0m in \u001b[0;36mstep\u001b[0;34m(self, state, action, reward, next_state, done)\u001b[0m\n\u001b[1;32m     24\u001b[0m       \u001b[0mexperience\u001b[0m \u001b[0;34m=\u001b[0m \u001b[0mself\u001b[0m\u001b[0;34m.\u001b[0m\u001b[0mmemory\u001b[0m\u001b[0;34m.\u001b[0m\u001b[0msample\u001b[0m\u001b[0;34m(\u001b[0m\u001b[0;34m)\u001b[0m\u001b[0;34m\u001b[0m\u001b[0;34m\u001b[0m\u001b[0m\n\u001b[1;32m     25\u001b[0m       \u001b[0mprint\u001b[0m\u001b[0;34m(\u001b[0m\u001b[0;34m'Experience sampled from memory : '\u001b[0m\u001b[0;34m,\u001b[0m \u001b[0mexperience\u001b[0m\u001b[0;34m)\u001b[0m\u001b[0;34m\u001b[0m\u001b[0;34m\u001b[0m\u001b[0m\n\u001b[0;32m---> 26\u001b[0;31m       \u001b[0mself\u001b[0m\u001b[0;34m.\u001b[0m\u001b[0mlearn\u001b[0m\u001b[0;34m(\u001b[0m\u001b[0mexperience\u001b[0m\u001b[0;34m,\u001b[0m \u001b[0mGAMMA\u001b[0m\u001b[0;34m)\u001b[0m\u001b[0;34m\u001b[0m\u001b[0;34m\u001b[0m\u001b[0m\n\u001b[0m\u001b[1;32m     27\u001b[0m \u001b[0;34m\u001b[0m\u001b[0m\n\u001b[1;32m     28\u001b[0m \u001b[0;34m\u001b[0m\u001b[0m\n",
            "\u001b[0;32m<ipython-input-226-42107b3b48a1>\u001b[0m in \u001b[0;36mlearn\u001b[0;34m(self, experiences, gamma)\u001b[0m\n\u001b[1;32m     72\u001b[0m \u001b[0;34m\u001b[0m\u001b[0m\n\u001b[1;32m     73\u001b[0m     \u001b[0;31m# perform soft update\u001b[0m\u001b[0;34m\u001b[0m\u001b[0;34m\u001b[0m\u001b[0;34m\u001b[0m\u001b[0m\n\u001b[0;32m---> 74\u001b[0;31m     \u001b[0mself\u001b[0m\u001b[0;34m.\u001b[0m\u001b[0msoft_update\u001b[0m\u001b[0;34m(\u001b[0m\u001b[0mself\u001b[0m\u001b[0;34m,\u001b[0m \u001b[0mself\u001b[0m\u001b[0;34m.\u001b[0m\u001b[0mqnet_local\u001b[0m\u001b[0;34m,\u001b[0m \u001b[0mself\u001b[0m\u001b[0;34m.\u001b[0m\u001b[0mqnet_target\u001b[0m\u001b[0;34m,\u001b[0m \u001b[0mTAU\u001b[0m\u001b[0;34m)\u001b[0m\u001b[0;34m\u001b[0m\u001b[0;34m\u001b[0m\u001b[0m\n\u001b[0m\u001b[1;32m     75\u001b[0m \u001b[0;34m\u001b[0m\u001b[0m\n\u001b[1;32m     76\u001b[0m   \u001b[0;32mdef\u001b[0m \u001b[0msoft_update\u001b[0m\u001b[0;34m(\u001b[0m\u001b[0mself\u001b[0m\u001b[0;34m,\u001b[0m \u001b[0mlocal_model\u001b[0m\u001b[0;34m,\u001b[0m \u001b[0mtarget_model\u001b[0m\u001b[0;34m,\u001b[0m \u001b[0mtau\u001b[0m\u001b[0;34m)\u001b[0m\u001b[0;34m:\u001b[0m\u001b[0;34m\u001b[0m\u001b[0;34m\u001b[0m\u001b[0m\n",
            "\u001b[0;31mTypeError\u001b[0m: soft_update() takes 4 positional arguments but 5 were given"
          ]
        }
      ]
    },
    {
      "cell_type": "code",
      "metadata": {
        "id": "zvaksnaalZZN",
        "colab_type": "code",
        "colab": {}
      },
      "source": [
        "credit_card_dataset = './dataset/creditcard.csv'\n",
        "df_credit_card = pd.DataFrame(pd.read_csv(credit_card_dataset))"
      ],
      "execution_count": 0,
      "outputs": []
    },
    {
      "cell_type": "code",
      "metadata": {
        "id": "xop8B7UiqcN0",
        "colab_type": "code",
        "colab": {
          "base_uri": "https://localhost:8080/",
          "height": 537
        },
        "outputId": "09c036f8-91f8-4ee4-9bfc-f184ca20f9c3"
      },
      "source": [
        "print(df_credit_card.iloc[0, :])"
      ],
      "execution_count": 167,
      "outputs": [
        {
          "output_type": "stream",
          "text": [
            "Time        0.000000\n",
            "V1         -1.359807\n",
            "V2         -0.072781\n",
            "V3          2.536347\n",
            "V4          1.378155\n",
            "V5         -0.338321\n",
            "V6          0.462388\n",
            "V7          0.239599\n",
            "V8          0.098698\n",
            "V9          0.363787\n",
            "V10         0.090794\n",
            "V11        -0.551600\n",
            "V12        -0.617801\n",
            "V13        -0.991390\n",
            "V14        -0.311169\n",
            "V15         1.468177\n",
            "V16        -0.470401\n",
            "V17         0.207971\n",
            "V18         0.025791\n",
            "V19         0.403993\n",
            "V20         0.251412\n",
            "V21        -0.018307\n",
            "V22         0.277838\n",
            "V23        -0.110474\n",
            "V24         0.066928\n",
            "V25         0.128539\n",
            "V26        -0.189115\n",
            "V27         0.133558\n",
            "V28        -0.021053\n",
            "Amount    149.620000\n",
            "Class       0.000000\n",
            "Name: 0, dtype: float64\n"
          ],
          "name": "stdout"
        }
      ]
    },
    {
      "cell_type": "code",
      "metadata": {
        "id": "ZLjulLsKqjep",
        "colab_type": "code",
        "colab": {}
      },
      "source": [
        ""
      ],
      "execution_count": 0,
      "outputs": []
    }
  ]
}