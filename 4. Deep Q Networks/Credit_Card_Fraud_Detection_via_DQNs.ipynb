{
  "nbformat": 4,
  "nbformat_minor": 0,
  "metadata": {
    "colab": {
      "name": "Credit_Card_Fraud_Detection_via_DQNs.ipynb",
      "provenance": [],
      "authorship_tag": "ABX9TyOnghA1f8Xj7iI84B4BhZv5",
      "include_colab_link": true
    },
    "kernelspec": {
      "name": "python3",
      "display_name": "Python 3"
    },
    "accelerator": "GPU"
  },
  "cells": [
    {
      "cell_type": "markdown",
      "metadata": {
        "id": "view-in-github",
        "colab_type": "text"
      },
      "source": [
        "<a href=\"https://colab.research.google.com/github/purvasingh96/Deep-Reinforcement-Learning/blob/master/4.%20Deep%20Q%20Networks/Credit_Card_Fraud_Detection_via_DQNs.ipynb\" target=\"_parent\"><img src=\"https://colab.research.google.com/assets/colab-badge.svg\" alt=\"Open In Colab\"/></a>"
      ]
    },
    {
      "cell_type": "markdown",
      "metadata": {
        "id": "yd3nIxkWx9re",
        "colab_type": "text"
      },
      "source": [
        "# Downloading data and Making *gym-fraud-detection* environment"
      ]
    },
    {
      "cell_type": "code",
      "metadata": {
        "id": "SEfJsOzcr5A1",
        "colab_type": "code",
        "colab": {}
      },
      "source": [
        "import shutil\n",
        "\n",
        "shutil.rmtree('/content/gym-fraud-detection')"
      ],
      "execution_count": 0,
      "outputs": []
    },
    {
      "cell_type": "code",
      "metadata": {
        "id": "aSP-HmORxLFf",
        "colab_type": "code",
        "outputId": "a39b9a92-ac4c-40fa-fc06-047b2d3a23f2",
        "colab": {
          "base_uri": "https://localhost:8080/",
          "height": 66
        }
      },
      "source": [
        "!unzip dataset.zip"
      ],
      "execution_count": 1,
      "outputs": [
        {
          "output_type": "stream",
          "text": [
            "Archive:  dataset.zip\n",
            "   creating: dataset/\n",
            "  inflating: dataset/creditcard.csv  \n"
          ],
          "name": "stdout"
        }
      ]
    },
    {
      "cell_type": "code",
      "metadata": {
        "id": "zJDVKS1Zx5Vu",
        "colab_type": "code",
        "outputId": "5e781911-73ec-4b54-8df5-fdeec17598b0",
        "colab": {
          "base_uri": "https://localhost:8080/",
          "height": 33
        }
      },
      "source": [
        "import os\n",
        "print(os.getcwd())"
      ],
      "execution_count": 2,
      "outputs": [
        {
          "output_type": "stream",
          "text": [
            "/content\n"
          ],
          "name": "stdout"
        }
      ]
    },
    {
      "cell_type": "code",
      "metadata": {
        "id": "nbw-KPaCybIS",
        "colab_type": "code",
        "outputId": "d08d5e4a-015d-44c4-c06a-69c9125a73d3",
        "colab": {
          "base_uri": "https://localhost:8080/",
          "height": 1000
        }
      },
      "source": [
        "!unzip gym-fraud-detection.zip"
      ],
      "execution_count": 3,
      "outputs": [
        {
          "output_type": "stream",
          "text": [
            "Archive:  gym-fraud-detection.zip\n",
            "   creating: gym-fraud-detection/\n",
            "  inflating: gym-fraud-detection/setup.py  \n",
            "  inflating: gym-fraud-detection/README.md  \n",
            "   creating: gym-fraud-detection/gym_fraud_detection/\n",
            "  inflating: gym-fraud-detection/gym_fraud_detection/__init__.py  \n",
            "   creating: gym-fraud-detection/.idea/\n",
            "  inflating: gym-fraud-detection/.idea/workspace.xml  \n",
            "  inflating: gym-fraud-detection/.idea/vcs.xml  \n",
            "  inflating: gym-fraud-detection/.idea/gym-fraud-detection.iml  \n",
            "  inflating: gym-fraud-detection/.idea/modules.xml  \n",
            "  inflating: gym-fraud-detection/.idea/encodings.xml  \n",
            "  inflating: gym-fraud-detection/.idea/misc.xml  \n",
            "   creating: gym-fraud-detection/.git/\n",
            "  inflating: gym-fraud-detection/.git/index  \n",
            "  inflating: gym-fraud-detection/.git/FETCH_HEAD  \n",
            " extracting: gym-fraud-detection/.git/ORIG_HEAD  \n",
            " extracting: gym-fraud-detection/.git/COMMIT_EDITMSG  \n",
            " extracting: gym-fraud-detection/.git/HEAD  \n",
            "  inflating: gym-fraud-detection/.git/packed-refs  \n",
            "  inflating: gym-fraud-detection/.git/config  \n",
            "  inflating: gym-fraud-detection/.git/description  \n",
            "   creating: gym-fraud-detection/gym_fraud_detection/envs/\n",
            "  inflating: gym-fraud-detection/gym_fraud_detection/envs/fraud_detection_env.py  \n",
            "  inflating: gym-fraud-detection/gym_fraud_detection/envs/__init__.py  \n",
            "   creating: gym-fraud-detection/.git/logs/\n",
            "  inflating: gym-fraud-detection/.git/logs/HEAD  \n",
            "   creating: gym-fraud-detection/.git/objects/\n",
            "   creating: gym-fraud-detection/.git/info/\n",
            "  inflating: gym-fraud-detection/.git/info/exclude  \n",
            "   creating: gym-fraud-detection/.git/branches/\n",
            "   creating: gym-fraud-detection/.git/hooks/\n",
            "  inflating: gym-fraud-detection/.git/hooks/applypatch-msg.sample  \n",
            "  inflating: gym-fraud-detection/.git/hooks/pre-push.sample  \n",
            "  inflating: gym-fraud-detection/.git/hooks/pre-applypatch.sample  \n",
            "  inflating: gym-fraud-detection/.git/hooks/pre-commit.sample  \n",
            "  inflating: gym-fraud-detection/.git/hooks/prepare-commit-msg.sample  \n",
            "  inflating: gym-fraud-detection/.git/hooks/update.sample  \n",
            "  inflating: gym-fraud-detection/.git/hooks/post-update.sample  \n",
            "  inflating: gym-fraud-detection/.git/hooks/commit-msg.sample  \n",
            "  inflating: gym-fraud-detection/.git/hooks/pre-rebase.sample  \n",
            "   creating: gym-fraud-detection/.git/refs/\n",
            "   creating: gym-fraud-detection/.git/logs/refs/\n",
            "   creating: gym-fraud-detection/.git/objects/fc/\n",
            " extracting: gym-fraud-detection/.git/objects/fc/9e781039da8508b6f13b894d538ca9b9a1c6c8  \n",
            "   creating: gym-fraud-detection/.git/objects/eb/\n",
            " extracting: gym-fraud-detection/.git/objects/eb/91aa64e9d6ca3485acaa05ce92142e652bb308  \n",
            "   creating: gym-fraud-detection/.git/objects/f3/\n",
            " extracting: gym-fraud-detection/.git/objects/f3/245f0b8f42f0aba80fc0ba5eca15a3baf19a90  \n",
            "   creating: gym-fraud-detection/.git/objects/41/\n",
            " extracting: gym-fraud-detection/.git/objects/41/d3458a5854739ca176fb49d4f5dd88b6db9a80  \n",
            "   creating: gym-fraud-detection/.git/objects/16/\n",
            " extracting: gym-fraud-detection/.git/objects/16/38132f33ce2093940bcc49bda144057f126484  \n",
            "   creating: gym-fraud-detection/.git/objects/ef/\n",
            " extracting: gym-fraud-detection/.git/objects/ef/874fc31a69252120e4d876237956456bdb7bd4  \n",
            "   creating: gym-fraud-detection/.git/objects/57/\n",
            " extracting: gym-fraud-detection/.git/objects/57/1d4f955df1c5f2866d5b1c2e57defa3e3a9cd6  \n",
            "   creating: gym-fraud-detection/.git/objects/29/\n",
            " extracting: gym-fraud-detection/.git/objects/29/7fffa2396b3db6ac41fd129f5a7d2ea0b58da0  \n",
            "   creating: gym-fraud-detection/.git/objects/58/\n",
            " extracting: gym-fraud-detection/.git/objects/58/2013069d105641a1b4420a358c0fb5a26f5f8d  \n",
            "   creating: gym-fraud-detection/.git/objects/ca/\n",
            " extracting: gym-fraud-detection/.git/objects/ca/29118949266f78335170d12f62bc604a7c209a  \n",
            "   creating: gym-fraud-detection/.git/objects/8d/\n",
            " extracting: gym-fraud-detection/.git/objects/8d/3ebec36c5ccafa5edae61fd82250de16e0b364  \n",
            "   creating: gym-fraud-detection/.git/objects/09/\n",
            " extracting: gym-fraud-detection/.git/objects/09/ca86caa7dc28877843fecea57e2eec9ffaabf9  \n",
            "   creating: gym-fraud-detection/.git/objects/79/\n",
            " extracting: gym-fraud-detection/.git/objects/79/9da6a34ae67f61f45ac2f570bd7efa6b1d9d7a  \n",
            "   creating: gym-fraud-detection/.git/objects/f6/\n",
            " extracting: gym-fraud-detection/.git/objects/f6/d0d9960a2ea2e0173a10193a47254649da5da0  \n",
            "   creating: gym-fraud-detection/.git/objects/7f/\n",
            " extracting: gym-fraud-detection/.git/objects/7f/ef9edc6cbedd3e126c8e14789fca5b8342fdb6  \n",
            "   creating: gym-fraud-detection/.git/objects/10/\n",
            " extracting: gym-fraud-detection/.git/objects/10/673a85733ae662e2d15675e1c8868d10ba3339  \n",
            "   creating: gym-fraud-detection/.git/objects/64/\n",
            " extracting: gym-fraud-detection/.git/objects/64/8872169adeb60600106fd5471ce2ad97abe5a1  \n",
            "   creating: gym-fraud-detection/.git/objects/a2/\n",
            " extracting: gym-fraud-detection/.git/objects/a2/d7823c583d2b39c423153d933a24b5ad8953f0  \n",
            "   creating: gym-fraud-detection/.git/objects/b5/\n",
            " extracting: gym-fraud-detection/.git/objects/b5/40e79c7af20c5bbf0e4f5d925e313b4dbf1c7a  \n",
            "   creating: gym-fraud-detection/.git/objects/b8/\n",
            " extracting: gym-fraud-detection/.git/objects/b8/2dc7b54504e0467bccc5b103cf655f47e9a5e3  \n",
            "   creating: gym-fraud-detection/.git/objects/3d/\n",
            " extracting: gym-fraud-detection/.git/objects/3d/88519c43e666b55879997a017a7c3bd5a8fd14  \n",
            "   creating: gym-fraud-detection/.git/objects/88/\n",
            " extracting: gym-fraud-detection/.git/objects/88/02f8f83e9fa47e7eebdb98abc8ca6ae62433df  \n",
            "   creating: gym-fraud-detection/.git/objects/80/\n",
            " extracting: gym-fraud-detection/.git/objects/80/9b951a829300318f8a28f96c9b9c1060cb69f5  \n",
            "   creating: gym-fraud-detection/.git/objects/f1/\n",
            " extracting: gym-fraud-detection/.git/objects/f1/d5fd6850511f9ac6c6e33bbda28730d7ffee88  \n",
            " extracting: gym-fraud-detection/.git/objects/f1/d668439da4348216f4114dfacabfab6c69607b  \n",
            "   creating: gym-fraud-detection/.git/objects/28/\n",
            " extracting: gym-fraud-detection/.git/objects/28/c41eec66e23aeb46a3d2148a61cf7ff73aff7c  \n",
            "   creating: gym-fraud-detection/.git/objects/e6/\n",
            " extracting: gym-fraud-detection/.git/objects/e6/9de29bb2d1d6434b8b29ae775ad8c2e48c5391  \n",
            "   creating: gym-fraud-detection/.git/objects/94/\n",
            " extracting: gym-fraud-detection/.git/objects/94/2737a0fd356bb3585794c8a9fbe2f9aceec1f4  \n",
            " extracting: gym-fraud-detection/.git/objects/94/a25f7f4cb416c083d265558da75d457237d671  \n",
            "   creating: gym-fraud-detection/.git/objects/ea/\n",
            " extracting: gym-fraud-detection/.git/objects/ea/0f4b993d850a959169ada12626e4277ac38e2b  \n",
            "   creating: gym-fraud-detection/.git/objects/25/\n",
            " extracting: gym-fraud-detection/.git/objects/25/7e24b080ac31ddcf1dc4b97dd9529a42d83274  \n",
            "   creating: gym-fraud-detection/.git/objects/84/\n",
            " extracting: gym-fraud-detection/.git/objects/84/423929b1578716a5d107e2ec1b37b137c266f2  \n",
            "   creating: gym-fraud-detection/.git/objects/info/\n",
            "   creating: gym-fraud-detection/.git/objects/pack/\n",
            "   creating: gym-fraud-detection/.git/refs/remotes/\n",
            "   creating: gym-fraud-detection/.git/refs/tags/\n",
            "   creating: gym-fraud-detection/.git/refs/heads/\n",
            " extracting: gym-fraud-detection/.git/refs/heads/master  \n",
            "   creating: gym-fraud-detection/.git/logs/refs/heads/\n",
            "  inflating: gym-fraud-detection/.git/logs/refs/heads/master  \n",
            "   creating: gym-fraud-detection/.git/logs/refs/remotes/\n",
            "   creating: gym-fraud-detection/.git/refs/remotes/origin/\n",
            " extracting: gym-fraud-detection/.git/refs/remotes/origin/master  \n",
            " extracting: gym-fraud-detection/.git/refs/remotes/origin/HEAD  \n",
            "   creating: gym-fraud-detection/.git/logs/refs/remotes/origin/\n",
            "  inflating: gym-fraud-detection/.git/logs/refs/remotes/origin/master  \n",
            "  inflating: gym-fraud-detection/.git/logs/refs/remotes/origin/HEAD  \n"
          ],
          "name": "stdout"
        }
      ]
    },
    {
      "cell_type": "code",
      "metadata": {
        "id": "etBbJvzDyfUg",
        "colab_type": "code",
        "colab": {}
      },
      "source": [
        "import os\n",
        "os.chdir('gym-fraud-detection')"
      ],
      "execution_count": 0,
      "outputs": []
    },
    {
      "cell_type": "code",
      "metadata": {
        "id": "ki_yImcr00iq",
        "colab_type": "code",
        "outputId": "925364f9-da1a-4760-e628-cdf805aed15c",
        "colab": {
          "base_uri": "https://localhost:8080/",
          "height": 180
        }
      },
      "source": [
        "pip install -e ."
      ],
      "execution_count": 5,
      "outputs": [
        {
          "output_type": "stream",
          "text": [
            "Obtaining file:///content/gym-fraud-detection\n",
            "Requirement already satisfied: gym in /usr/local/lib/python3.6/dist-packages (from gym-fraud-detection==0.0.1) (0.17.2)\n",
            "Requirement already satisfied: numpy>=1.10.4 in /usr/local/lib/python3.6/dist-packages (from gym->gym-fraud-detection==0.0.1) (1.18.5)\n",
            "Requirement already satisfied: cloudpickle<1.4.0,>=1.2.0 in /usr/local/lib/python3.6/dist-packages (from gym->gym-fraud-detection==0.0.1) (1.3.0)\n",
            "Requirement already satisfied: pyglet<=1.5.0,>=1.4.0 in /usr/local/lib/python3.6/dist-packages (from gym->gym-fraud-detection==0.0.1) (1.5.0)\n",
            "Requirement already satisfied: scipy in /usr/local/lib/python3.6/dist-packages (from gym->gym-fraud-detection==0.0.1) (1.4.1)\n",
            "Requirement already satisfied: future in /usr/local/lib/python3.6/dist-packages (from pyglet<=1.5.0,>=1.4.0->gym->gym-fraud-detection==0.0.1) (0.16.0)\n",
            "Installing collected packages: gym-fraud-detection\n",
            "  Running setup.py develop for gym-fraud-detection\n",
            "Successfully installed gym-fraud-detection\n"
          ],
          "name": "stdout"
        }
      ]
    },
    {
      "cell_type": "code",
      "metadata": {
        "id": "TZn7ZY3S09w4",
        "colab_type": "code",
        "colab": {}
      },
      "source": [
        "import gym\n",
        "import gym_fraud_detection"
      ],
      "execution_count": 0,
      "outputs": []
    },
    {
      "cell_type": "code",
      "metadata": {
        "id": "vGDw0SDL65J7",
        "colab_type": "code",
        "colab": {}
      },
      "source": [
        "os.chdir('/content')\n",
        "env = gym.make('gym-fraud-detection-v0')"
      ],
      "execution_count": 0,
      "outputs": []
    },
    {
      "cell_type": "markdown",
      "metadata": {
        "id": "yyliTenYyJFn",
        "colab_type": "text"
      },
      "source": [
        "# Download proper libraries"
      ]
    },
    {
      "cell_type": "code",
      "metadata": {
        "id": "npIKlpFYx7aH",
        "colab_type": "code",
        "colab": {}
      },
      "source": [
        "import math\n",
        "import random\n",
        "import numpy as np\n",
        "import matplotlib\n",
        "import matplotlib.pyplot as plt\n",
        "from collections import namedtuple\n",
        "from itertools import count\n",
        "from PIL import Image\n",
        "\n",
        "import torch\n",
        "import torch.nn as nn\n",
        "import torch.optim as optim\n",
        "import torch.nn.functional as F\n",
        "import torchvision.transforms as T\n"
      ],
      "execution_count": 0,
      "outputs": []
    },
    {
      "cell_type": "code",
      "metadata": {
        "id": "dxvMcLNyyazd",
        "colab_type": "code",
        "colab": {}
      },
      "source": [
        "# if gpu is to be used\n",
        "device = torch.device(\"cuda\" if torch.cuda.is_available() else \"cpu\")"
      ],
      "execution_count": 0,
      "outputs": []
    },
    {
      "cell_type": "markdown",
      "metadata": {
        "id": "_M2zDvSnzrhP",
        "colab_type": "text"
      },
      "source": [
        "# Exploring the custom gym environment"
      ]
    },
    {
      "cell_type": "code",
      "metadata": {
        "id": "9lBO9cfLyeGI",
        "colab_type": "code",
        "outputId": "a96c9c45-0941-4409-faee-e9bbbc9e19e3",
        "colab": {
          "base_uri": "https://localhost:8080/",
          "height": 33
        }
      },
      "source": [
        "print(env.action_space.n)"
      ],
      "execution_count": 14,
      "outputs": [
        {
          "output_type": "stream",
          "text": [
            "2\n"
          ],
          "name": "stdout"
        }
      ]
    },
    {
      "cell_type": "code",
      "metadata": {
        "id": "tkFHCcn2zwsi",
        "colab_type": "code",
        "colab": {}
      },
      "source": [
        "actions = []\n",
        "rewards = []\n",
        "count = 5\n",
        "\n",
        "while True:\n",
        "  action = env.action_space.sample()\n",
        "  reward = env.step(action)\n",
        "  actions.append(action)\n",
        "  rewards.append(reward)\n",
        "  count -= 1\n",
        "  if count==0:\n",
        "    break\n"
      ],
      "execution_count": 0,
      "outputs": []
    },
    {
      "cell_type": "code",
      "metadata": {
        "id": "LSpdBwmD0MXf",
        "colab_type": "code",
        "outputId": "08c07140-9ff8-4c10-9003-4db1efaa9c1c",
        "colab": {
          "base_uri": "https://localhost:8080/",
          "height": 180
        }
      },
      "source": [
        "for i in range(5):\n",
        "  print(\"action : \", actions[i], \"labelled data : \", env.label_for(i))\n",
        "  print(\"reward : \", rewards[i])"
      ],
      "execution_count": 16,
      "outputs": [
        {
          "output_type": "stream",
          "text": [
            "action :  0 labelled data :  0.0\n",
            "reward :  (1, 1, False, '{\"true_positive_rate\": 0, \"false_positive_rate\": 0, \"true_negative_rate\": 0, \"false_negative_rate\": 0}')\n",
            "action :  0 labelled data :  0.0\n",
            "reward :  (2, 1, False, '{\"true_positive_rate\": 0, \"false_positive_rate\": 0, \"true_negative_rate\": 0, \"false_negative_rate\": 0}')\n",
            "action :  0 labelled data :  0.0\n",
            "reward :  (3, 1, False, '{\"true_positive_rate\": 0, \"false_positive_rate\": 0, \"true_negative_rate\": 0, \"false_negative_rate\": 0}')\n",
            "action :  0 labelled data :  0.0\n",
            "reward :  (4, 1, False, '{\"true_positive_rate\": 0, \"false_positive_rate\": 0, \"true_negative_rate\": 0, \"false_negative_rate\": 0}')\n",
            "action :  1 labelled data :  0.0\n",
            "reward :  (5, -1, False, '{\"true_positive_rate\": 0, \"false_positive_rate\": 1, \"true_negative_rate\": 0, \"false_negative_rate\": 0}')\n"
          ],
          "name": "stdout"
        }
      ]
    },
    {
      "cell_type": "markdown",
      "metadata": {
        "id": "fXOAmP2t4PAk",
        "colab_type": "text"
      },
      "source": [
        "# Exploring data and creating pytorch model\n",
        "\n",
        "link : https://www.kaggle.com/dakshmiglani/pytorch-credit-card-fraud-prediction-99-8"
      ]
    },
    {
      "cell_type": "code",
      "metadata": {
        "id": "V6iifaPH0O3C",
        "colab_type": "code",
        "colab": {}
      },
      "source": [
        "import torch, torch.nn as nn, torch.nn.functional as F\n",
        "from torch.autograd import Variable\n",
        "import pandas as pd\n",
        "from sklearn.preprocessing import StandardScaler\n",
        "from sklearn.model_selection import train_test_split\n",
        "import torch.utils.data as data_utils"
      ],
      "execution_count": 0,
      "outputs": []
    },
    {
      "cell_type": "code",
      "metadata": {
        "id": "08OKe2xb4pRl",
        "colab_type": "code",
        "outputId": "2ab9dc6b-5ddf-4085-f8fd-209bf6b66499",
        "colab": {
          "base_uri": "https://localhost:8080/",
          "height": 96
        }
      },
      "source": [
        "df = pd.read_csv('./dataset/creditcard.csv')\n",
        "df.head(1) # give us a sneek preview of the dataset xD"
      ],
      "execution_count": 18,
      "outputs": [
        {
          "output_type": "execute_result",
          "data": {
            "text/html": [
              "<div>\n",
              "<style scoped>\n",
              "    .dataframe tbody tr th:only-of-type {\n",
              "        vertical-align: middle;\n",
              "    }\n",
              "\n",
              "    .dataframe tbody tr th {\n",
              "        vertical-align: top;\n",
              "    }\n",
              "\n",
              "    .dataframe thead th {\n",
              "        text-align: right;\n",
              "    }\n",
              "</style>\n",
              "<table border=\"1\" class=\"dataframe\">\n",
              "  <thead>\n",
              "    <tr style=\"text-align: right;\">\n",
              "      <th></th>\n",
              "      <th>Time</th>\n",
              "      <th>V1</th>\n",
              "      <th>V2</th>\n",
              "      <th>V3</th>\n",
              "      <th>V4</th>\n",
              "      <th>V5</th>\n",
              "      <th>V6</th>\n",
              "      <th>V7</th>\n",
              "      <th>V8</th>\n",
              "      <th>V9</th>\n",
              "      <th>V10</th>\n",
              "      <th>V11</th>\n",
              "      <th>V12</th>\n",
              "      <th>V13</th>\n",
              "      <th>V14</th>\n",
              "      <th>V15</th>\n",
              "      <th>V16</th>\n",
              "      <th>V17</th>\n",
              "      <th>V18</th>\n",
              "      <th>V19</th>\n",
              "      <th>V20</th>\n",
              "      <th>V21</th>\n",
              "      <th>V22</th>\n",
              "      <th>V23</th>\n",
              "      <th>V24</th>\n",
              "      <th>V25</th>\n",
              "      <th>V26</th>\n",
              "      <th>V27</th>\n",
              "      <th>V28</th>\n",
              "      <th>Amount</th>\n",
              "      <th>Class</th>\n",
              "    </tr>\n",
              "  </thead>\n",
              "  <tbody>\n",
              "    <tr>\n",
              "      <th>0</th>\n",
              "      <td>0.0</td>\n",
              "      <td>-1.359807</td>\n",
              "      <td>-0.072781</td>\n",
              "      <td>2.536347</td>\n",
              "      <td>1.378155</td>\n",
              "      <td>-0.338321</td>\n",
              "      <td>0.462388</td>\n",
              "      <td>0.239599</td>\n",
              "      <td>0.098698</td>\n",
              "      <td>0.363787</td>\n",
              "      <td>0.090794</td>\n",
              "      <td>-0.5516</td>\n",
              "      <td>-0.617801</td>\n",
              "      <td>-0.99139</td>\n",
              "      <td>-0.311169</td>\n",
              "      <td>1.468177</td>\n",
              "      <td>-0.470401</td>\n",
              "      <td>0.207971</td>\n",
              "      <td>0.025791</td>\n",
              "      <td>0.403993</td>\n",
              "      <td>0.251412</td>\n",
              "      <td>-0.018307</td>\n",
              "      <td>0.277838</td>\n",
              "      <td>-0.110474</td>\n",
              "      <td>0.066928</td>\n",
              "      <td>0.128539</td>\n",
              "      <td>-0.189115</td>\n",
              "      <td>0.133558</td>\n",
              "      <td>-0.021053</td>\n",
              "      <td>149.62</td>\n",
              "      <td>0</td>\n",
              "    </tr>\n",
              "  </tbody>\n",
              "</table>\n",
              "</div>"
            ],
            "text/plain": [
              "   Time        V1        V2        V3  ...       V27       V28  Amount  Class\n",
              "0   0.0 -1.359807 -0.072781  2.536347  ...  0.133558 -0.021053  149.62      0\n",
              "\n",
              "[1 rows x 31 columns]"
            ]
          },
          "metadata": {
            "tags": []
          },
          "execution_count": 18
        }
      ]
    },
    {
      "cell_type": "code",
      "metadata": {
        "id": "0Dn7LVNZ4wLl",
        "colab_type": "code",
        "colab": {}
      },
      "source": [
        "X = df.iloc[:, :-1].values \n",
        "y = df.iloc[:, -1].values\n",
        "\n",
        "sc = StandardScaler()\n",
        "X = sc.fit_transform(X)"
      ],
      "execution_count": 0,
      "outputs": []
    },
    {
      "cell_type": "code",
      "metadata": {
        "id": "_JrGWieB5bzu",
        "colab_type": "code",
        "colab": {}
      },
      "source": [
        "X_train, X_test, Y_train, Y_test = train_test_split(X, y, test_size=0.1, random_state=1)"
      ],
      "execution_count": 0,
      "outputs": []
    },
    {
      "cell_type": "markdown",
      "metadata": {
        "id": "jtT8nKAr7xew",
        "colab_type": "text"
      },
      "source": [
        "## 2. Defining the Q-Network"
      ]
    },
    {
      "cell_type": "code",
      "metadata": {
        "id": "WrYaaTPH7tpF",
        "colab_type": "code",
        "colab": {}
      },
      "source": [
        "class DQN(nn.Module):\n",
        "    def __init__(self):\n",
        "        super().__init__()\n",
        "        self.fc1 = nn.Linear(30, 16)\n",
        "        self.fc2 = nn.Linear(16, 18)\n",
        "        self.fc3 = nn.Linear(18, 20)\n",
        "        self.fc4 = nn.Linear(20, 24)\n",
        "        # returning 2 q-values, one for every action\n",
        "        self.fc5 = nn.Linear(24, 2)\n",
        "    def forward(self, x):\n",
        "        x = F.relu(self.fc1(x))\n",
        "        x = F.dropout(x, p=0.25)\n",
        "        x = F.relu(self.fc2(x))\n",
        "        x = F.dropout(x, p=0.25)\n",
        "        x = F.relu(self.fc3(x))\n",
        "        x = F.dropout(x, p=0.25)\n",
        "        x = F.relu(self.fc4(x))\n",
        "        x = self.fc5(x)\n",
        "        return x"
      ],
      "execution_count": 0,
      "outputs": []
    },
    {
      "cell_type": "markdown",
      "metadata": {
        "id": "IEIjnFYWuHVH",
        "colab_type": "text"
      },
      "source": [
        "# Define DQN Agent"
      ]
    },
    {
      "cell_type": "code",
      "metadata": {
        "id": "lRKfj_w9jI0R",
        "colab_type": "code",
        "colab": {}
      },
      "source": [
        "import numpy as np\n",
        "import random \n",
        "from collections import namedtuple, deque \n",
        "\n",
        "import torch\n",
        "import torch.nn.functional as F\n",
        "import torch.optim as optim\n",
        "\n",
        "BUFFER_SIZE = int(1e5)  #replay buffer size\n",
        "BATCH_SIZE = 64         # minibatch size\n",
        "GAMMA = 0.99            # discount factor\n",
        "TAU = 1e-3              # for soft update of target parameters\n",
        "LR = 5e-4               # learning rate\n",
        "UPDATE_EVERY = 4        # how often to update the network\n",
        "EPSILON = 0.8           # probability of chosing on-policy action\n",
        "\n",
        "device = torch.device(\"cuda:0\" if torch.cuda.is_available() else \"cpu\")\n"
      ],
      "execution_count": 0,
      "outputs": []
    },
    {
      "cell_type": "code",
      "metadata": {
        "id": "_wtw7yjqujcU",
        "colab_type": "code",
        "colab": {}
      },
      "source": [
        "class Agent():\n",
        "  def __init__(self, state_size, action_size, seed):\n",
        "    self.state_size = state_size\n",
        "    self.action_size = action_size\n",
        "    self.seed = random.seed(seed)\n",
        "\n",
        "\n",
        "    # Q - Network\n",
        "    self.qnet_local = DQN().to(device)\n",
        "    self.qnet_target = DQN().to(device)\n",
        "\n",
        "    self.optimizer = optim.Adam(self.q_net_local.parameters(), lr=0.001)\n",
        "\n",
        "    self.memory = ReplayBuffer(action_size, BUFFER_SIZE, BATCH_SIZE, seed)\n",
        "\n",
        "    self.t_step = 0\n",
        "\n",
        "  def step(self, state, action, reward, next_step, done):\n",
        "    self.memory.add(state, action, reward, next_step, done)\n",
        "\n",
        "\n",
        "    # learn every 4 timesteps\n",
        "    self.t_step = (self.t_step+1)%UPDATE_EVERY\n",
        "    if self.t_step == 0:\n",
        "      experience = self.memory.sample()\n",
        "      self.learn(experience, GAMMA)\n",
        "\n",
        "\n",
        "  def epsilon_greedy_action(self, state):\n",
        "    # todo float or not?\n",
        "    state = torch.from_numpy(state).unsqueeze(0).to(device)\n",
        "    self.qnet_local.eval()\n",
        "    with torch.no_grad():\n",
        "      action_values = self.qnet_local(state)\n",
        "    self.qnet_local.train()\n",
        "\n",
        "    if random.random() > EPSILON:\n",
        "      return np.argmax(action_values.cpu().data.numpy())\n",
        "    else:\n",
        "      return random.choice(np.arange(self.action_size))\n",
        "  \n",
        "  def learn(self, experiences, gamma):\n",
        "    states, actions, rewards, next_state, done = experiences\n",
        "    criterion = torch.nn.BCELoss()\n",
        "    self.qnet_local.train()\n",
        "    self.qnet_target.eval()\n",
        "\n",
        "    predicted_targets = self.qnet_local(states).gather(1, actions)\n",
        "\n",
        "    with torch.zero_grad():\n",
        "      labels_next = self.qnet_target(next_states).detach().max(1)[0].unsqueeze(1)\n",
        "    \n",
        "    labels = rewards + (gamma * labels_next)\n",
        "\n",
        "    loss = criterion(predicted_targets, labels).to(device)\n",
        "    self.optimizer.zero_grad()\n",
        "    loss.backward()\n",
        "    self.optimizer.step()\n",
        "\n",
        "    # perform soft update\n",
        "    self.soft_update(self, self.qnet_local, self.qnet_target, TAU)\n",
        "  \n",
        "  def soft_update(self, local_model, target_model, tau):\n",
        "    for target_param, local_param in zip(target_model.parameters(), local_model.parameters()):\n",
        "      target_param.data.copy_(tau*local_param.data + (1-tau)*target_param.data)\n",
        "\n",
        "\n"
      ],
      "execution_count": 0,
      "outputs": []
    },
    {
      "cell_type": "code",
      "metadata": {
        "id": "SmJtKxIW2ekm",
        "colab_type": "code",
        "colab": {}
      },
      "source": [
        "class ReplayBuffer():\n",
        "  def __init__(self, action_size, buffer_size, batch_size, seed):\n",
        "    self.action_size = action_sizze\n",
        "    self.memory = deque(maxlen=buffer_size)\n",
        "    self.batch_size = batch_size\n",
        "    self.experiences = namedtuple(\"Experience\", field_names=[\"state\", \"action\", \"reward\", \"next_state\", \"done\"])\n",
        "    self.seed = random.seed(seed)\n",
        "  \n",
        "  def add(self, state, action, reward, next_state, done):\n",
        "    experience = self.experiences(state, action, reward, next_state, done)\n",
        "    self.memory.append(experience)\n",
        "\n",
        "  def sample(self):\n",
        "    experiences = random.sample(self.memory, k=self.batch_size)\n",
        "    \n",
        "    states = torch.from_numpy(np.vstack([e.state for e in experiences if e is not None])).float().to(device)\n",
        "    actions = torch.from_numpy(np.vstack([e.action for e in experiences if e is not None])).float().to(device)\n",
        "    rewards = torch.from_numpy(np.vstack([e.reward for e in experience if e is not None])).float().to(device)\n",
        "    next_states = torch.from_numpy(np.vstack([e.next_state for e in experience if e is not None])).float().to(device)\n",
        "    dones = torch.from_numpy(np.vstack([e.done for e in experience if e is not None])).float().to(device)\n",
        "\n",
        "    return (states, actions, rewards, next_states, dones)\n",
        "  \n",
        "  def __len__(self):\n",
        "      return len(self.memory)\n"
      ],
      "execution_count": 0,
      "outputs": []
    },
    {
      "cell_type": "code",
      "metadata": {
        "id": "5xOHIUkg481e",
        "colab_type": "code",
        "colab": {}
      },
      "source": [
        ""
      ],
      "execution_count": 0,
      "outputs": []
    }
  ]
}