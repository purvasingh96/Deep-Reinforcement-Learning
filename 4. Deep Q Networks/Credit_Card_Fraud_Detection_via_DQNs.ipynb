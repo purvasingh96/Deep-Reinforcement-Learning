{
  "nbformat": 4,
  "nbformat_minor": 0,
  "metadata": {
    "colab": {
      "name": "Credit_Card_Fraud_Detection_via_DQNs.ipynb",
      "provenance": [],
      "toc_visible": true,
      "authorship_tag": "ABX9TyMAa3viJreG3V/mjEvLcW44",
      "include_colab_link": true
    },
    "kernelspec": {
      "name": "python3",
      "display_name": "Python 3"
    }
  },
  "cells": [
    {
      "cell_type": "markdown",
      "metadata": {
        "id": "view-in-github",
        "colab_type": "text"
      },
      "source": [
        "<a href=\"https://colab.research.google.com/github/purvasingh96/Deep-Reinforcement-Learning/blob/master/4.%20Deep%20Q%20Networks/Credit_Card_Fraud_Detection_via_DQNs.ipynb\" target=\"_parent\"><img src=\"https://colab.research.google.com/assets/colab-badge.svg\" alt=\"Open In Colab\"/></a>"
      ]
    },
    {
      "cell_type": "markdown",
      "metadata": {
        "id": "yd3nIxkWx9re",
        "colab_type": "text"
      },
      "source": [
        "# Downloading data and Making *gym-fraud-detection* environment"
      ]
    },
    {
      "cell_type": "code",
      "metadata": {
        "id": "SEfJsOzcr5A1",
        "colab_type": "code",
        "colab": {}
      },
      "source": [
        "import shutil\n",
        "\n",
        "shutil.rmtree('/content/gym-fraud-detection')"
      ],
      "execution_count": 0,
      "outputs": []
    },
    {
      "cell_type": "code",
      "metadata": {
        "id": "aSP-HmORxLFf",
        "colab_type": "code",
        "outputId": "8a9491f3-69d7-4af0-c309-7f742f27e0cd",
        "colab": {
          "base_uri": "https://localhost:8080/",
          "height": 66
        }
      },
      "source": [
        "!unzip dataset.zip"
      ],
      "execution_count": 3,
      "outputs": [
        {
          "output_type": "stream",
          "text": [
            "Archive:  dataset.zip\n",
            "   creating: dataset/\n",
            "  inflating: dataset/creditcard.csv  \n"
          ],
          "name": "stdout"
        }
      ]
    },
    {
      "cell_type": "code",
      "metadata": {
        "id": "zJDVKS1Zx5Vu",
        "colab_type": "code",
        "outputId": "e8c7bb3b-ba1d-423c-fb03-455882b4d2eb",
        "colab": {
          "base_uri": "https://localhost:8080/",
          "height": 33
        }
      },
      "source": [
        "import os\n",
        "print(os.getcwd())"
      ],
      "execution_count": 4,
      "outputs": [
        {
          "output_type": "stream",
          "text": [
            "/content\n"
          ],
          "name": "stdout"
        }
      ]
    },
    {
      "cell_type": "code",
      "metadata": {
        "id": "nbw-KPaCybIS",
        "colab_type": "code",
        "colab": {
          "base_uri": "https://localhost:8080/",
          "height": 1000
        },
        "outputId": "71ae9c86-dd92-4c4e-a2a6-b1a3b7c3d73b"
      },
      "source": [
        "!unzip gym-fraud-detection.zip"
      ],
      "execution_count": 5,
      "outputs": [
        {
          "output_type": "stream",
          "text": [
            "Archive:  gym-fraud-detection.zip\n",
            "   creating: gym-fraud-detection/\n",
            "  inflating: gym-fraud-detection/setup.py  \n",
            "  inflating: gym-fraud-detection/README.md  \n",
            "   creating: gym-fraud-detection/gym_fraud_detection/\n",
            "  inflating: gym-fraud-detection/gym_fraud_detection/__init__.py  \n",
            "   creating: gym-fraud-detection/.idea/\n",
            "  inflating: gym-fraud-detection/.idea/workspace.xml  \n",
            "  inflating: gym-fraud-detection/.idea/vcs.xml  \n",
            "  inflating: gym-fraud-detection/.idea/gym-fraud-detection.iml  \n",
            "  inflating: gym-fraud-detection/.idea/modules.xml  \n",
            "  inflating: gym-fraud-detection/.idea/encodings.xml  \n",
            "  inflating: gym-fraud-detection/.idea/misc.xml  \n",
            "   creating: gym-fraud-detection/.git/\n",
            "  inflating: gym-fraud-detection/.git/index  \n",
            "  inflating: gym-fraud-detection/.git/FETCH_HEAD  \n",
            " extracting: gym-fraud-detection/.git/ORIG_HEAD  \n",
            " extracting: gym-fraud-detection/.git/COMMIT_EDITMSG  \n",
            " extracting: gym-fraud-detection/.git/HEAD  \n",
            "  inflating: gym-fraud-detection/.git/packed-refs  \n",
            "  inflating: gym-fraud-detection/.git/config  \n",
            "  inflating: gym-fraud-detection/.git/description  \n",
            "   creating: gym-fraud-detection/gym_fraud_detection/envs/\n",
            "  inflating: gym-fraud-detection/gym_fraud_detection/envs/fraud_detection_env.py  \n",
            "  inflating: gym-fraud-detection/gym_fraud_detection/envs/__init__.py  \n",
            "   creating: gym-fraud-detection/.git/logs/\n",
            "  inflating: gym-fraud-detection/.git/logs/HEAD  \n",
            "   creating: gym-fraud-detection/.git/objects/\n",
            "   creating: gym-fraud-detection/.git/info/\n",
            "  inflating: gym-fraud-detection/.git/info/exclude  \n",
            "   creating: gym-fraud-detection/.git/branches/\n",
            "   creating: gym-fraud-detection/.git/hooks/\n",
            "  inflating: gym-fraud-detection/.git/hooks/applypatch-msg.sample  \n",
            "  inflating: gym-fraud-detection/.git/hooks/pre-push.sample  \n",
            "  inflating: gym-fraud-detection/.git/hooks/pre-applypatch.sample  \n",
            "  inflating: gym-fraud-detection/.git/hooks/pre-commit.sample  \n",
            "  inflating: gym-fraud-detection/.git/hooks/prepare-commit-msg.sample  \n",
            "  inflating: gym-fraud-detection/.git/hooks/update.sample  \n",
            "  inflating: gym-fraud-detection/.git/hooks/post-update.sample  \n",
            "  inflating: gym-fraud-detection/.git/hooks/commit-msg.sample  \n",
            "  inflating: gym-fraud-detection/.git/hooks/pre-rebase.sample  \n",
            "   creating: gym-fraud-detection/.git/refs/\n",
            "   creating: gym-fraud-detection/.git/logs/refs/\n",
            "   creating: gym-fraud-detection/.git/objects/fc/\n",
            " extracting: gym-fraud-detection/.git/objects/fc/9e781039da8508b6f13b894d538ca9b9a1c6c8  \n",
            "   creating: gym-fraud-detection/.git/objects/eb/\n",
            " extracting: gym-fraud-detection/.git/objects/eb/91aa64e9d6ca3485acaa05ce92142e652bb308  \n",
            "   creating: gym-fraud-detection/.git/objects/f3/\n",
            " extracting: gym-fraud-detection/.git/objects/f3/245f0b8f42f0aba80fc0ba5eca15a3baf19a90  \n",
            "   creating: gym-fraud-detection/.git/objects/41/\n",
            " extracting: gym-fraud-detection/.git/objects/41/d3458a5854739ca176fb49d4f5dd88b6db9a80  \n",
            "   creating: gym-fraud-detection/.git/objects/16/\n",
            " extracting: gym-fraud-detection/.git/objects/16/38132f33ce2093940bcc49bda144057f126484  \n",
            "   creating: gym-fraud-detection/.git/objects/ef/\n",
            " extracting: gym-fraud-detection/.git/objects/ef/874fc31a69252120e4d876237956456bdb7bd4  \n",
            "   creating: gym-fraud-detection/.git/objects/57/\n",
            " extracting: gym-fraud-detection/.git/objects/57/1d4f955df1c5f2866d5b1c2e57defa3e3a9cd6  \n",
            "   creating: gym-fraud-detection/.git/objects/29/\n",
            " extracting: gym-fraud-detection/.git/objects/29/7fffa2396b3db6ac41fd129f5a7d2ea0b58da0  \n",
            "   creating: gym-fraud-detection/.git/objects/58/\n",
            " extracting: gym-fraud-detection/.git/objects/58/2013069d105641a1b4420a358c0fb5a26f5f8d  \n",
            "   creating: gym-fraud-detection/.git/objects/ca/\n",
            " extracting: gym-fraud-detection/.git/objects/ca/29118949266f78335170d12f62bc604a7c209a  \n",
            "   creating: gym-fraud-detection/.git/objects/8d/\n",
            " extracting: gym-fraud-detection/.git/objects/8d/3ebec36c5ccafa5edae61fd82250de16e0b364  \n",
            "   creating: gym-fraud-detection/.git/objects/09/\n",
            " extracting: gym-fraud-detection/.git/objects/09/ca86caa7dc28877843fecea57e2eec9ffaabf9  \n",
            "   creating: gym-fraud-detection/.git/objects/79/\n",
            " extracting: gym-fraud-detection/.git/objects/79/9da6a34ae67f61f45ac2f570bd7efa6b1d9d7a  \n",
            "   creating: gym-fraud-detection/.git/objects/f6/\n",
            " extracting: gym-fraud-detection/.git/objects/f6/d0d9960a2ea2e0173a10193a47254649da5da0  \n",
            "   creating: gym-fraud-detection/.git/objects/7f/\n",
            " extracting: gym-fraud-detection/.git/objects/7f/ef9edc6cbedd3e126c8e14789fca5b8342fdb6  \n",
            "   creating: gym-fraud-detection/.git/objects/10/\n",
            " extracting: gym-fraud-detection/.git/objects/10/673a85733ae662e2d15675e1c8868d10ba3339  \n",
            "   creating: gym-fraud-detection/.git/objects/64/\n",
            " extracting: gym-fraud-detection/.git/objects/64/8872169adeb60600106fd5471ce2ad97abe5a1  \n",
            "   creating: gym-fraud-detection/.git/objects/a2/\n",
            " extracting: gym-fraud-detection/.git/objects/a2/d7823c583d2b39c423153d933a24b5ad8953f0  \n",
            "   creating: gym-fraud-detection/.git/objects/b5/\n",
            " extracting: gym-fraud-detection/.git/objects/b5/40e79c7af20c5bbf0e4f5d925e313b4dbf1c7a  \n",
            "   creating: gym-fraud-detection/.git/objects/b8/\n",
            " extracting: gym-fraud-detection/.git/objects/b8/2dc7b54504e0467bccc5b103cf655f47e9a5e3  \n",
            "   creating: gym-fraud-detection/.git/objects/3d/\n",
            " extracting: gym-fraud-detection/.git/objects/3d/88519c43e666b55879997a017a7c3bd5a8fd14  \n",
            "   creating: gym-fraud-detection/.git/objects/88/\n",
            " extracting: gym-fraud-detection/.git/objects/88/02f8f83e9fa47e7eebdb98abc8ca6ae62433df  \n",
            "   creating: gym-fraud-detection/.git/objects/80/\n",
            " extracting: gym-fraud-detection/.git/objects/80/9b951a829300318f8a28f96c9b9c1060cb69f5  \n",
            "   creating: gym-fraud-detection/.git/objects/f1/\n",
            " extracting: gym-fraud-detection/.git/objects/f1/d5fd6850511f9ac6c6e33bbda28730d7ffee88  \n",
            " extracting: gym-fraud-detection/.git/objects/f1/d668439da4348216f4114dfacabfab6c69607b  \n",
            "   creating: gym-fraud-detection/.git/objects/28/\n",
            " extracting: gym-fraud-detection/.git/objects/28/c41eec66e23aeb46a3d2148a61cf7ff73aff7c  \n",
            "   creating: gym-fraud-detection/.git/objects/e6/\n",
            " extracting: gym-fraud-detection/.git/objects/e6/9de29bb2d1d6434b8b29ae775ad8c2e48c5391  \n",
            "   creating: gym-fraud-detection/.git/objects/94/\n",
            " extracting: gym-fraud-detection/.git/objects/94/2737a0fd356bb3585794c8a9fbe2f9aceec1f4  \n",
            " extracting: gym-fraud-detection/.git/objects/94/a25f7f4cb416c083d265558da75d457237d671  \n",
            "   creating: gym-fraud-detection/.git/objects/ea/\n",
            " extracting: gym-fraud-detection/.git/objects/ea/0f4b993d850a959169ada12626e4277ac38e2b  \n",
            "   creating: gym-fraud-detection/.git/objects/25/\n",
            " extracting: gym-fraud-detection/.git/objects/25/7e24b080ac31ddcf1dc4b97dd9529a42d83274  \n",
            "   creating: gym-fraud-detection/.git/objects/84/\n",
            " extracting: gym-fraud-detection/.git/objects/84/423929b1578716a5d107e2ec1b37b137c266f2  \n",
            "   creating: gym-fraud-detection/.git/objects/info/\n",
            "   creating: gym-fraud-detection/.git/objects/pack/\n",
            "   creating: gym-fraud-detection/.git/refs/remotes/\n",
            "   creating: gym-fraud-detection/.git/refs/tags/\n",
            "   creating: gym-fraud-detection/.git/refs/heads/\n",
            " extracting: gym-fraud-detection/.git/refs/heads/master  \n",
            "   creating: gym-fraud-detection/.git/logs/refs/heads/\n",
            "  inflating: gym-fraud-detection/.git/logs/refs/heads/master  \n",
            "   creating: gym-fraud-detection/.git/logs/refs/remotes/\n",
            "   creating: gym-fraud-detection/.git/refs/remotes/origin/\n",
            " extracting: gym-fraud-detection/.git/refs/remotes/origin/master  \n",
            " extracting: gym-fraud-detection/.git/refs/remotes/origin/HEAD  \n",
            "   creating: gym-fraud-detection/.git/logs/refs/remotes/origin/\n",
            "  inflating: gym-fraud-detection/.git/logs/refs/remotes/origin/master  \n",
            "  inflating: gym-fraud-detection/.git/logs/refs/remotes/origin/HEAD  \n"
          ],
          "name": "stdout"
        }
      ]
    },
    {
      "cell_type": "code",
      "metadata": {
        "id": "etBbJvzDyfUg",
        "colab_type": "code",
        "colab": {}
      },
      "source": [
        "import os\n",
        "os.chdir('gym-fraud-detection')"
      ],
      "execution_count": 0,
      "outputs": []
    },
    {
      "cell_type": "code",
      "metadata": {
        "id": "ki_yImcr00iq",
        "colab_type": "code",
        "outputId": "28fe8874-056e-4c1a-fee6-7421591b6f22",
        "colab": {
          "base_uri": "https://localhost:8080/",
          "height": 200
        }
      },
      "source": [
        "pip install -e ."
      ],
      "execution_count": 7,
      "outputs": [
        {
          "output_type": "stream",
          "text": [
            "Obtaining file:///content/gym-fraud-detection\n",
            "Requirement already satisfied: gym in /usr/local/lib/python3.6/dist-packages (from gym-fraud-detection==0.0.1) (0.17.2)\n",
            "Requirement already satisfied: numpy>=1.10.4 in /usr/local/lib/python3.6/dist-packages (from gym->gym-fraud-detection==0.0.1) (1.18.5)\n",
            "Requirement already satisfied: scipy in /usr/local/lib/python3.6/dist-packages (from gym->gym-fraud-detection==0.0.1) (1.4.1)\n",
            "Requirement already satisfied: cloudpickle<1.4.0,>=1.2.0 in /usr/local/lib/python3.6/dist-packages (from gym->gym-fraud-detection==0.0.1) (1.3.0)\n",
            "Requirement already satisfied: pyglet<=1.5.0,>=1.4.0 in /usr/local/lib/python3.6/dist-packages (from gym->gym-fraud-detection==0.0.1) (1.5.0)\n",
            "Requirement already satisfied: future in /usr/local/lib/python3.6/dist-packages (from pyglet<=1.5.0,>=1.4.0->gym->gym-fraud-detection==0.0.1) (0.16.0)\n",
            "Installing collected packages: gym-fraud-detection\n",
            "  Running setup.py develop for gym-fraud-detection\n",
            "Successfully installed gym-fraud-detection\n"
          ],
          "name": "stdout"
        }
      ]
    },
    {
      "cell_type": "code",
      "metadata": {
        "id": "TZn7ZY3S09w4",
        "colab_type": "code",
        "colab": {}
      },
      "source": [
        "import gym\n",
        "import gym_fraud_detection"
      ],
      "execution_count": 0,
      "outputs": []
    },
    {
      "cell_type": "code",
      "metadata": {
        "id": "vGDw0SDL65J7",
        "colab_type": "code",
        "colab": {}
      },
      "source": [
        "os.chdir('/content')\n",
        "env = gym.make('gym-fraud-detection-v0')"
      ],
      "execution_count": 0,
      "outputs": []
    },
    {
      "cell_type": "markdown",
      "metadata": {
        "id": "yyliTenYyJFn",
        "colab_type": "text"
      },
      "source": [
        "# Download proper libraries"
      ]
    },
    {
      "cell_type": "code",
      "metadata": {
        "id": "npIKlpFYx7aH",
        "colab_type": "code",
        "colab": {}
      },
      "source": [
        "import math\n",
        "import random\n",
        "import numpy as np\n",
        "import matplotlib\n",
        "import matplotlib.pyplot as plt\n",
        "from collections import namedtuple\n",
        "from itertools import count\n",
        "from PIL import Image\n",
        "\n",
        "import torch\n",
        "import torch.nn as nn\n",
        "import torch.optim as optim\n",
        "import torch.nn.functional as F\n",
        "import torchvision.transforms as T\n"
      ],
      "execution_count": 0,
      "outputs": []
    },
    {
      "cell_type": "code",
      "metadata": {
        "id": "dxvMcLNyyazd",
        "colab_type": "code",
        "colab": {}
      },
      "source": [
        "# if gpu is to be used\n",
        "device = torch.device(\"cuda\" if torch.cuda.is_available() else \"cpu\")"
      ],
      "execution_count": 0,
      "outputs": []
    },
    {
      "cell_type": "markdown",
      "metadata": {
        "id": "_M2zDvSnzrhP",
        "colab_type": "text"
      },
      "source": [
        "# Exploring the custom gym environment"
      ]
    },
    {
      "cell_type": "code",
      "metadata": {
        "id": "9lBO9cfLyeGI",
        "colab_type": "code",
        "outputId": "a4c4ee3e-2252-4a72-f230-0a5012ede86f",
        "colab": {
          "base_uri": "https://localhost:8080/",
          "height": 33
        }
      },
      "source": [
        "print(env.action_space.n)"
      ],
      "execution_count": 13,
      "outputs": [
        {
          "output_type": "stream",
          "text": [
            "2\n"
          ],
          "name": "stdout"
        }
      ]
    },
    {
      "cell_type": "code",
      "metadata": {
        "id": "tkFHCcn2zwsi",
        "colab_type": "code",
        "colab": {}
      },
      "source": [
        "actions = []\n",
        "rewards = []\n",
        "count = 5\n",
        "\n",
        "while True:\n",
        "  action = env.action_space.sample()\n",
        "  reward = env.step(action)\n",
        "  actions.append(action)\n",
        "  rewards.append(reward)\n",
        "  count -= 1\n",
        "  if count==0:\n",
        "    break\n"
      ],
      "execution_count": 0,
      "outputs": []
    },
    {
      "cell_type": "code",
      "metadata": {
        "id": "LSpdBwmD0MXf",
        "colab_type": "code",
        "outputId": "c9c105e8-45ba-4860-e2a0-ea9abdd4f82c",
        "colab": {
          "base_uri": "https://localhost:8080/",
          "height": 180
        }
      },
      "source": [
        "for i in range(5):\n",
        "  print(\"action : \", actions[i], \"labelled data : \", env.label_for(i))\n",
        "  print(\"reward : \", rewards[i])"
      ],
      "execution_count": 15,
      "outputs": [
        {
          "output_type": "stream",
          "text": [
            "action :  0 labelled data :  0.0\n",
            "reward :  (1, 1, False, '{\"true_positive_rate\": 0, \"false_positive_rate\": 0, \"true_negative_rate\": 0, \"false_negative_rate\": 0}')\n",
            "action :  1 labelled data :  0.0\n",
            "reward :  (2, -1, False, '{\"true_positive_rate\": 0, \"false_positive_rate\": 1, \"true_negative_rate\": 0, \"false_negative_rate\": 0}')\n",
            "action :  0 labelled data :  0.0\n",
            "reward :  (3, 1, False, '{\"true_positive_rate\": 0, \"false_positive_rate\": 1, \"true_negative_rate\": 0, \"false_negative_rate\": 0}')\n",
            "action :  1 labelled data :  0.0\n",
            "reward :  (4, -1, False, '{\"true_positive_rate\": 0, \"false_positive_rate\": 2, \"true_negative_rate\": 0, \"false_negative_rate\": 0}')\n",
            "action :  1 labelled data :  0.0\n",
            "reward :  (5, -1, False, '{\"true_positive_rate\": 0, \"false_positive_rate\": 3, \"true_negative_rate\": 0, \"false_negative_rate\": 0}')\n"
          ],
          "name": "stdout"
        }
      ]
    },
    {
      "cell_type": "markdown",
      "metadata": {
        "id": "fXOAmP2t4PAk",
        "colab_type": "text"
      },
      "source": [
        "# Exploring data and creating pytorch model\n",
        "\n",
        "link : https://www.kaggle.com/dakshmiglani/pytorch-credit-card-fraud-prediction-99-8"
      ]
    },
    {
      "cell_type": "code",
      "metadata": {
        "id": "V6iifaPH0O3C",
        "colab_type": "code",
        "colab": {}
      },
      "source": [
        "import torch, torch.nn as nn, torch.nn.functional as F\n",
        "from torch.autograd import Variable\n",
        "import pandas as pd\n",
        "from sklearn.preprocessing import StandardScaler\n",
        "from sklearn.model_selection import train_test_split\n",
        "import torch.utils.data as data_utils"
      ],
      "execution_count": 0,
      "outputs": []
    },
    {
      "cell_type": "code",
      "metadata": {
        "id": "08OKe2xb4pRl",
        "colab_type": "code",
        "outputId": "cf2b6dab-06a7-4895-fd08-0629862d022d",
        "colab": {
          "base_uri": "https://localhost:8080/",
          "height": 96
        }
      },
      "source": [
        "df = pd.read_csv('./dataset/creditcard.csv')\n",
        "df.head(1) # give us a sneek preview of the dataset xD"
      ],
      "execution_count": 17,
      "outputs": [
        {
          "output_type": "execute_result",
          "data": {
            "text/html": [
              "<div>\n",
              "<style scoped>\n",
              "    .dataframe tbody tr th:only-of-type {\n",
              "        vertical-align: middle;\n",
              "    }\n",
              "\n",
              "    .dataframe tbody tr th {\n",
              "        vertical-align: top;\n",
              "    }\n",
              "\n",
              "    .dataframe thead th {\n",
              "        text-align: right;\n",
              "    }\n",
              "</style>\n",
              "<table border=\"1\" class=\"dataframe\">\n",
              "  <thead>\n",
              "    <tr style=\"text-align: right;\">\n",
              "      <th></th>\n",
              "      <th>Time</th>\n",
              "      <th>V1</th>\n",
              "      <th>V2</th>\n",
              "      <th>V3</th>\n",
              "      <th>V4</th>\n",
              "      <th>V5</th>\n",
              "      <th>V6</th>\n",
              "      <th>V7</th>\n",
              "      <th>V8</th>\n",
              "      <th>V9</th>\n",
              "      <th>V10</th>\n",
              "      <th>V11</th>\n",
              "      <th>V12</th>\n",
              "      <th>V13</th>\n",
              "      <th>V14</th>\n",
              "      <th>V15</th>\n",
              "      <th>V16</th>\n",
              "      <th>V17</th>\n",
              "      <th>V18</th>\n",
              "      <th>V19</th>\n",
              "      <th>V20</th>\n",
              "      <th>V21</th>\n",
              "      <th>V22</th>\n",
              "      <th>V23</th>\n",
              "      <th>V24</th>\n",
              "      <th>V25</th>\n",
              "      <th>V26</th>\n",
              "      <th>V27</th>\n",
              "      <th>V28</th>\n",
              "      <th>Amount</th>\n",
              "      <th>Class</th>\n",
              "    </tr>\n",
              "  </thead>\n",
              "  <tbody>\n",
              "    <tr>\n",
              "      <th>0</th>\n",
              "      <td>0.0</td>\n",
              "      <td>-1.359807</td>\n",
              "      <td>-0.072781</td>\n",
              "      <td>2.536347</td>\n",
              "      <td>1.378155</td>\n",
              "      <td>-0.338321</td>\n",
              "      <td>0.462388</td>\n",
              "      <td>0.239599</td>\n",
              "      <td>0.098698</td>\n",
              "      <td>0.363787</td>\n",
              "      <td>0.090794</td>\n",
              "      <td>-0.5516</td>\n",
              "      <td>-0.617801</td>\n",
              "      <td>-0.99139</td>\n",
              "      <td>-0.311169</td>\n",
              "      <td>1.468177</td>\n",
              "      <td>-0.470401</td>\n",
              "      <td>0.207971</td>\n",
              "      <td>0.025791</td>\n",
              "      <td>0.403993</td>\n",
              "      <td>0.251412</td>\n",
              "      <td>-0.018307</td>\n",
              "      <td>0.277838</td>\n",
              "      <td>-0.110474</td>\n",
              "      <td>0.066928</td>\n",
              "      <td>0.128539</td>\n",
              "      <td>-0.189115</td>\n",
              "      <td>0.133558</td>\n",
              "      <td>-0.021053</td>\n",
              "      <td>149.62</td>\n",
              "      <td>0</td>\n",
              "    </tr>\n",
              "  </tbody>\n",
              "</table>\n",
              "</div>"
            ],
            "text/plain": [
              "   Time        V1        V2        V3  ...       V27       V28  Amount  Class\n",
              "0   0.0 -1.359807 -0.072781  2.536347  ...  0.133558 -0.021053  149.62      0\n",
              "\n",
              "[1 rows x 31 columns]"
            ]
          },
          "metadata": {
            "tags": []
          },
          "execution_count": 17
        }
      ]
    },
    {
      "cell_type": "code",
      "metadata": {
        "id": "0Dn7LVNZ4wLl",
        "colab_type": "code",
        "colab": {}
      },
      "source": [
        "X = df.iloc[:, :-1].values \n",
        "y = df.iloc[:, -1].values\n",
        "\n",
        "sc = StandardScaler()\n",
        "X = sc.fit_transform(X)"
      ],
      "execution_count": 0,
      "outputs": []
    },
    {
      "cell_type": "code",
      "metadata": {
        "id": "_JrGWieB5bzu",
        "colab_type": "code",
        "colab": {}
      },
      "source": [
        "X_train, X_test, Y_train, Y_test = train_test_split(X, y, test_size=0.1, random_state=1)"
      ],
      "execution_count": 0,
      "outputs": []
    },
    {
      "cell_type": "markdown",
      "metadata": {
        "id": "Tg8axMv-5lH3",
        "colab_type": "text"
      },
      "source": [
        "# Creating Deep Q-Network\n",
        "\n",
        "## 1. Creating Experience Replay"
      ]
    },
    {
      "cell_type": "code",
      "metadata": {
        "id": "L-_jJ-o75gKq",
        "colab_type": "code",
        "colab": {}
      },
      "source": [
        "from collections import deque\n",
        "\n",
        "class Experience():\n",
        "  def __init__(self, state, action, reward, next_state):\n",
        "    self.state = state\n",
        "    self.action = action\n",
        "    self.reward = reward\n",
        "    self.next_state = next_state\n",
        "\n",
        "class ReplayMemory():\n",
        "  def __init__(self, max_size=1000):\n",
        "    self.buffer = deque(maxlen=max_size)\n",
        "  \n",
        "  def add(self, experience: Experience):\n",
        "    self.buffer.append(experience)\n",
        "  \n",
        "  def sample(self, batch_size):\n",
        "    idx = np.random.choice(np.arange(len(self.buffer)),\n",
        "                           size=batch_size, \n",
        "                           replace=False)\n",
        "    \n",
        "    return [self.buffer[i] for i in idx]\n"
      ],
      "execution_count": 0,
      "outputs": []
    },
    {
      "cell_type": "markdown",
      "metadata": {
        "id": "jtT8nKAr7xew",
        "colab_type": "text"
      },
      "source": [
        "## 2. Defining the Q-Network"
      ]
    },
    {
      "cell_type": "code",
      "metadata": {
        "id": "WrYaaTPH7tpF",
        "colab_type": "code",
        "colab": {}
      },
      "source": [
        "class DQN(nn.Module):\n",
        "    def __init__(self):\n",
        "        super().__init__()\n",
        "        self.fc1 = nn.Linear(30, 16)\n",
        "        self.fc2 = nn.Linear(16, 18)\n",
        "        self.fc3 = nn.Linear(18, 20)\n",
        "        self.fc4 = nn.Linear(20, 24)\n",
        "        # returning 2 q-values, one for every action\n",
        "        self.fc5 = nn.Linear(24, 2)\n",
        "    def forward(self, x):\n",
        "        x = F.relu(self.fc1(x))\n",
        "        x = F.dropout(x, p=0.25)\n",
        "        x = F.relu(self.fc2(x))\n",
        "        x = F.dropout(x, p=0.25)\n",
        "        x = F.relu(self.fc3(x))\n",
        "        x = F.dropout(x, p=0.25)\n",
        "        x = F.relu(self.fc4(x))\n",
        "        x = self.fc5(x)\n",
        "        return x"
      ],
      "execution_count": 0,
      "outputs": []
    },
    {
      "cell_type": "code",
      "metadata": {
        "id": "D2M27ZuX8gne",
        "colab_type": "code",
        "outputId": "f2f7481d-bf55-46c6-c21e-abc5ae257cc4",
        "colab": {
          "base_uri": "https://localhost:8080/",
          "height": 131
        }
      },
      "source": [
        "net = DQN().double()\n",
        "net"
      ],
      "execution_count": 145,
      "outputs": [
        {
          "output_type": "execute_result",
          "data": {
            "text/plain": [
              "DQN(\n",
              "  (fc1): Linear(in_features=30, out_features=16, bias=True)\n",
              "  (fc2): Linear(in_features=16, out_features=18, bias=True)\n",
              "  (fc3): Linear(in_features=18, out_features=20, bias=True)\n",
              "  (fc4): Linear(in_features=20, out_features=24, bias=True)\n",
              "  (fc5): Linear(in_features=24, out_features=2, bias=True)\n",
              ")"
            ]
          },
          "metadata": {
            "tags": []
          },
          "execution_count": 145
        }
      ]
    },
    {
      "cell_type": "code",
      "metadata": {
        "id": "EIoeLYxo8jnm",
        "colab_type": "code",
        "colab": {}
      },
      "source": [
        "X_train = torch.from_numpy(X_train)\n",
        "Y_train = torch.from_numpy(Y_train).double()"
      ],
      "execution_count": 0,
      "outputs": []
    },
    {
      "cell_type": "code",
      "metadata": {
        "id": "xN0diL7A84qM",
        "colab_type": "code",
        "colab": {}
      },
      "source": [
        "criterion = nn.BCELoss()\n",
        "optimizer = optim.Adam(net.parameters(), lr=0.001)"
      ],
      "execution_count": 0,
      "outputs": []
    },
    {
      "cell_type": "markdown",
      "metadata": {
        "id": "fZj18ROi9lSH",
        "colab_type": "text"
      },
      "source": [
        "# 3. Define the Agent\n"
      ]
    },
    {
      "cell_type": "code",
      "metadata": {
        "id": "Je2OGdeYAJjc",
        "colab_type": "code",
        "colab": {}
      },
      "source": [
        "from agent_SARSA import Agent"
      ],
      "execution_count": 0,
      "outputs": []
    },
    {
      "cell_type": "code",
      "metadata": {
        "id": "u8nhRhWUA5bN",
        "colab_type": "code",
        "colab": {}
      },
      "source": [
        "dqn_agent = Agent(nA=2)"
      ],
      "execution_count": 0,
      "outputs": []
    },
    {
      "cell_type": "markdown",
      "metadata": {
        "id": "W96yqX9WCo-K",
        "colab_type": "text"
      },
      "source": [
        "# Training the model\n",
        "\n",
        "## Optimize model using experience replay"
      ]
    },
    {
      "cell_type": "code",
      "metadata": {
        "id": "5BFlrIs_BFm1",
        "colab_type": "code",
        "colab": {}
      },
      "source": [
        "train = data_utils.TensorDataset(X_train, Y_train)\n",
        "train_loader = data_utils.DataLoader(train, batch_size=1, shuffle=True)"
      ],
      "execution_count": 0,
      "outputs": []
    },
    {
      "cell_type": "code",
      "metadata": {
        "id": "gSL4aTgKqf73",
        "colab_type": "code",
        "outputId": "e4075ff8-fcd9-4941-e339-77b4d967f579",
        "colab": {
          "base_uri": "https://localhost:8080/",
          "height": 33
        }
      },
      "source": [
        "x = torch.tensor([[random.randrange(2)]], device=device, dtype=torch.long)\n",
        "print(x)"
      ],
      "execution_count": 151,
      "outputs": [
        {
          "output_type": "stream",
          "text": [
            "tensor([[1]])\n"
          ],
          "name": "stdout"
        }
      ]
    },
    {
      "cell_type": "code",
      "metadata": {
        "id": "jjBUz51pk_ZX",
        "colab_type": "code",
        "colab": {}
      },
      "source": [
        "policy_net = DQN().double().to(device)\n",
        "\n",
        "\"\"\"\n",
        " tensor([[ 0.0497, -0.2222],\n",
        "        [ 0.0445, -0.2421],\n",
        "        [ 0.0564, -0.2190],\n",
        "        [ 0.0522, -0.2444],\n",
        "        [ 0.0546, -0.2387],\n",
        "        [ 0.0773, -0.2068],\n",
        "\n",
        "\"\"\"\n",
        "\n",
        "def get_epsilon_greedy_policy(state):\n",
        "  if random.random()>0:\n",
        "    print('Using DQN to get action')\n",
        "    #with torch.no_grad():\n",
        "    action = policy_net(state).max(1)[1].float()\n",
        "  else:\n",
        "    print('Selecting random action')\n",
        "    action = torch.tensor([[random.randrange(2)]], device=device)\n",
        "  \n",
        "  return action\n",
        "  \n"
      ],
      "execution_count": 0,
      "outputs": []
    },
    {
      "cell_type": "code",
      "metadata": {
        "id": "bCygInQIecnL",
        "colab_type": "code",
        "outputId": "90ec5023-8c8e-48be-d177-c3fde98480f6",
        "colab": {
          "base_uri": "https://localhost:8080/"
        }
      },
      "source": [
        "for i in range(200):\n",
        "  env.reset()\n",
        "  accumulated_reward = 0\n",
        "  for state_idx, data in enumerate(train_loader, 0):\n",
        "    inputs, labels = data\n",
        "    action = get_epsilon_greedy_policy(inputs)\n",
        "    optimizer.zero_grad()\n",
        "    print('action : ',action)\n",
        "    print('labels : ', labels)\n",
        "    loss = criterion(action.double(), labels)  \n",
        "    loss.backward()\n",
        "    optimizer.step()\n",
        "    print('Training loss : ',loss)\n"
      ],
      "execution_count": 156,
      "outputs": [
        {
          "output_type": "stream",
          "text": [
            "Using DQN to get action\n",
            "action :  tensor([0.])\n",
            "labels :  tensor([0.], dtype=torch.float64)\n"
          ],
          "name": "stdout"
        },
        {
          "output_type": "error",
          "ename": "RuntimeError",
          "evalue": "ignored",
          "traceback": [
            "\u001b[0;31m---------------------------------------------------------------------------\u001b[0m",
            "\u001b[0;31mRuntimeError\u001b[0m                              Traceback (most recent call last)",
            "\u001b[0;32m<ipython-input-156-7fcbbc07de5a>\u001b[0m in \u001b[0;36m<module>\u001b[0;34m()\u001b[0m\n\u001b[1;32m      9\u001b[0m     \u001b[0mprint\u001b[0m\u001b[0;34m(\u001b[0m\u001b[0;34m'labels : '\u001b[0m\u001b[0;34m,\u001b[0m \u001b[0mlabels\u001b[0m\u001b[0;34m)\u001b[0m\u001b[0;34m\u001b[0m\u001b[0;34m\u001b[0m\u001b[0m\n\u001b[1;32m     10\u001b[0m     \u001b[0mloss\u001b[0m \u001b[0;34m=\u001b[0m \u001b[0mcriterion\u001b[0m\u001b[0;34m(\u001b[0m\u001b[0maction\u001b[0m\u001b[0;34m.\u001b[0m\u001b[0mdouble\u001b[0m\u001b[0;34m(\u001b[0m\u001b[0;34m)\u001b[0m\u001b[0;34m,\u001b[0m \u001b[0mlabels\u001b[0m\u001b[0;34m)\u001b[0m\u001b[0;34m\u001b[0m\u001b[0;34m\u001b[0m\u001b[0m\n\u001b[0;32m---> 11\u001b[0;31m     \u001b[0mloss\u001b[0m\u001b[0;34m.\u001b[0m\u001b[0mbackward\u001b[0m\u001b[0;34m(\u001b[0m\u001b[0;34m)\u001b[0m\u001b[0;34m\u001b[0m\u001b[0;34m\u001b[0m\u001b[0m\n\u001b[0m\u001b[1;32m     12\u001b[0m     \u001b[0moptimizer\u001b[0m\u001b[0;34m.\u001b[0m\u001b[0mstep\u001b[0m\u001b[0;34m(\u001b[0m\u001b[0;34m)\u001b[0m\u001b[0;34m\u001b[0m\u001b[0;34m\u001b[0m\u001b[0m\n\u001b[1;32m     13\u001b[0m     \u001b[0mprint\u001b[0m\u001b[0;34m(\u001b[0m\u001b[0;34m'Training loss : '\u001b[0m\u001b[0;34m,\u001b[0m\u001b[0mloss\u001b[0m\u001b[0;34m)\u001b[0m\u001b[0;34m\u001b[0m\u001b[0;34m\u001b[0m\u001b[0m\n",
            "\u001b[0;32m/usr/local/lib/python3.6/dist-packages/torch/tensor.py\u001b[0m in \u001b[0;36mbackward\u001b[0;34m(self, gradient, retain_graph, create_graph)\u001b[0m\n\u001b[1;32m    196\u001b[0m                 \u001b[0mproducts\u001b[0m\u001b[0;34m.\u001b[0m \u001b[0mDefaults\u001b[0m \u001b[0mto\u001b[0m\u001b[0;31m \u001b[0m\u001b[0;31m`\u001b[0m\u001b[0;31m`\u001b[0m\u001b[0;32mFalse\u001b[0m\u001b[0;31m`\u001b[0m\u001b[0;31m`\u001b[0m\u001b[0;34m.\u001b[0m\u001b[0;34m\u001b[0m\u001b[0;34m\u001b[0m\u001b[0m\n\u001b[1;32m    197\u001b[0m         \"\"\"\n\u001b[0;32m--> 198\u001b[0;31m         \u001b[0mtorch\u001b[0m\u001b[0;34m.\u001b[0m\u001b[0mautograd\u001b[0m\u001b[0;34m.\u001b[0m\u001b[0mbackward\u001b[0m\u001b[0;34m(\u001b[0m\u001b[0mself\u001b[0m\u001b[0;34m,\u001b[0m \u001b[0mgradient\u001b[0m\u001b[0;34m,\u001b[0m \u001b[0mretain_graph\u001b[0m\u001b[0;34m,\u001b[0m \u001b[0mcreate_graph\u001b[0m\u001b[0;34m)\u001b[0m\u001b[0;34m\u001b[0m\u001b[0;34m\u001b[0m\u001b[0m\n\u001b[0m\u001b[1;32m    199\u001b[0m \u001b[0;34m\u001b[0m\u001b[0m\n\u001b[1;32m    200\u001b[0m     \u001b[0;32mdef\u001b[0m \u001b[0mregister_hook\u001b[0m\u001b[0;34m(\u001b[0m\u001b[0mself\u001b[0m\u001b[0;34m,\u001b[0m \u001b[0mhook\u001b[0m\u001b[0;34m)\u001b[0m\u001b[0;34m:\u001b[0m\u001b[0;34m\u001b[0m\u001b[0;34m\u001b[0m\u001b[0m\n",
            "\u001b[0;32m/usr/local/lib/python3.6/dist-packages/torch/autograd/__init__.py\u001b[0m in \u001b[0;36mbackward\u001b[0;34m(tensors, grad_tensors, retain_graph, create_graph, grad_variables)\u001b[0m\n\u001b[1;32m     98\u001b[0m     Variable._execution_engine.run_backward(\n\u001b[1;32m     99\u001b[0m         \u001b[0mtensors\u001b[0m\u001b[0;34m,\u001b[0m \u001b[0mgrad_tensors\u001b[0m\u001b[0;34m,\u001b[0m \u001b[0mretain_graph\u001b[0m\u001b[0;34m,\u001b[0m \u001b[0mcreate_graph\u001b[0m\u001b[0;34m,\u001b[0m\u001b[0;34m\u001b[0m\u001b[0;34m\u001b[0m\u001b[0m\n\u001b[0;32m--> 100\u001b[0;31m         allow_unreachable=True)  # allow_unreachable flag\n\u001b[0m\u001b[1;32m    101\u001b[0m \u001b[0;34m\u001b[0m\u001b[0m\n\u001b[1;32m    102\u001b[0m \u001b[0;34m\u001b[0m\u001b[0m\n",
            "\u001b[0;31mRuntimeError\u001b[0m: element 0 of tensors does not require grad and does not have a grad_fn"
          ]
        }
      ]
    },
    {
      "cell_type": "code",
      "metadata": {
        "id": "lRKfj_w9jI0R",
        "colab_type": "code",
        "colab": {}
      },
      "source": [
        ""
      ],
      "execution_count": 0,
      "outputs": []
    }
  ]
}